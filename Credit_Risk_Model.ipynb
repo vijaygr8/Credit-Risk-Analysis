{
  "nbformat": 4,
  "nbformat_minor": 0,
  "metadata": {
    "colab": {
      "provenance": [],
      "collapsed_sections": [
        "Az8ahR-uxjQo",
        "XedOXcZc_dLt",
        "6K9pSZfmGVzO",
        "_r2WDbYcGm8k",
        "MpbZj7HUU3jX",
        "tInL-nXRX4VG",
        "kuqAzU62abUC"
      ],
      "authorship_tag": "ABX9TyMphzS4U8XeLnB+w/1SHIve",
      "include_colab_link": true
    },
    "kernelspec": {
      "name": "python3",
      "display_name": "Python 3"
    },
    "language_info": {
      "name": "python"
    }
  },
  "cells": [
    {
      "cell_type": "markdown",
      "metadata": {
        "id": "view-in-github",
        "colab_type": "text"
      },
      "source": [
        "<a href=\"https://colab.research.google.com/github/vijaygr8/Credit-Risk-Analysis/blob/main/Credit_Risk_Model.ipynb\" target=\"_parent\"><img src=\"https://colab.research.google.com/assets/colab-badge.svg\" alt=\"Open In Colab\"/></a>"
      ]
    },
    {
      "cell_type": "markdown",
      "source": [
        "Task-1: Problem Statement\n",
        "\n",
        "Task-2: Data Exploration and Validation\n",
        "\n",
        "Task-3: Data Cleaning\n",
        "\n",
        "Task-4: Model Building Models(Logistic Regregression, Decision trees & Random Forest)\n",
        "\n",
        "Task-5: Model presentation\n"
      ],
      "metadata": {
        "id": "I810pCyVrPzT"
      }
    },
    {
      "cell_type": "markdown",
      "source": [
        "# Credit Risk Model:\n"
      ],
      "metadata": {
        "id": "5ClweGyZrd-G"
      }
    },
    {
      "cell_type": "code",
      "source": [
        "import pandas as pd\n",
        "import numpy as np\n",
        "import matplotlib.pyplot as plt\n",
        "import seaborn as sns"
      ],
      "metadata": {
        "id": "LF9IwXD5robL"
      },
      "execution_count": 1,
      "outputs": []
    },
    {
      "cell_type": "markdown",
      "source": [
        "**Bank Credit risk analysis of customers on the basis of following available parametrs:\n",
        "'SeriousDlqin2yrs', 'monthly_utilization', 'age' 'NumberOfTime30-59DaysPastDueNotWorse', 'DebtRatio', 'MonthlyIncome',\n",
        "'NumberOfOpenCreditLinesAndLoans', 'NumberOfTimes90DaysLate' 'NumberRealEstateLoansOrLines', 'NumberOfTime60-89DaysPastDueNotWorse',\n",
        "'NumberOfDependents'**"
      ],
      "metadata": {
        "id": "YwLr0aV6t8IB"
      }
    },
    {
      "cell_type": "code",
      "source": [
        "df=pd.read_csv(\"https://raw.githubusercontent.com/vijaygr8/Credit-Risk-Analysis/8f01cbc89671d135c76f0fdaa8e98493d554c70c/Dataset\",sep=',',engine='python')"
      ],
      "metadata": {
        "id": "XkUjpvF6zrUt"
      },
      "execution_count": 2,
      "outputs": []
    },
    {
      "cell_type": "code",
      "source": [
        "df.info()"
      ],
      "metadata": {
        "colab": {
          "base_uri": "https://localhost:8080/"
        },
        "id": "uxiU53J80FAy",
        "outputId": "60e9511d-7665-45f7-8adf-f6abf373fa18"
      },
      "execution_count": 3,
      "outputs": [
        {
          "output_type": "stream",
          "name": "stdout",
          "text": [
            "<class 'pandas.core.frame.DataFrame'>\n",
            "RangeIndex: 150000 entries, 0 to 149999\n",
            "Data columns (total 12 columns):\n",
            " #   Column                                Non-Null Count   Dtype  \n",
            "---  ------                                --------------   -----  \n",
            " 0   Sr_No                                 150000 non-null  int64  \n",
            " 1   SeriousDlqin2yrs                      150000 non-null  int64  \n",
            " 2   monthly_utilization                   150000 non-null  float64\n",
            " 3   age                                   150000 non-null  int64  \n",
            " 4   NumberOfTime30-59DaysPastDueNotWorse  150000 non-null  int64  \n",
            " 5   DebtRatio                             150000 non-null  float64\n",
            " 6   MonthlyIncome                         120269 non-null  float64\n",
            " 7   NumberOfOpenCreditLinesAndLoans       150000 non-null  int64  \n",
            " 8   NumberOfTimes90DaysLate               150000 non-null  int64  \n",
            " 9   NumberRealEstateLoansOrLines          150000 non-null  int64  \n",
            " 10  NumberOfTime60-89DaysPastDueNotWorse  150000 non-null  int64  \n",
            " 11  NumberOfDependents                    146076 non-null  float64\n",
            "dtypes: float64(4), int64(8)\n",
            "memory usage: 13.7 MB\n"
          ]
        }
      ]
    },
    {
      "cell_type": "markdown",
      "source": [
        "Number of dependents can not be float."
      ],
      "metadata": {
        "id": "zF28ku2u-PNe"
      }
    },
    {
      "cell_type": "code",
      "source": [
        "df.shape"
      ],
      "metadata": {
        "colab": {
          "base_uri": "https://localhost:8080/"
        },
        "id": "VHLA1LLx8psr",
        "outputId": "7fb29188-5956-4bba-f4a9-fa5310c2ffcc"
      },
      "execution_count": 4,
      "outputs": [
        {
          "output_type": "execute_result",
          "data": {
            "text/plain": [
              "(150000, 12)"
            ]
          },
          "metadata": {},
          "execution_count": 4
        }
      ]
    },
    {
      "cell_type": "code",
      "source": [
        "df.columns"
      ],
      "metadata": {
        "colab": {
          "base_uri": "https://localhost:8080/"
        },
        "id": "HE9uTNot9GrD",
        "outputId": "797ccad3-91fd-413f-e419-5c4603eef8ce"
      },
      "execution_count": 5,
      "outputs": [
        {
          "output_type": "execute_result",
          "data": {
            "text/plain": [
              "Index(['Sr_No', 'SeriousDlqin2yrs', 'monthly_utilization', 'age',\n",
              "       'NumberOfTime30-59DaysPastDueNotWorse', 'DebtRatio', 'MonthlyIncome',\n",
              "       'NumberOfOpenCreditLinesAndLoans', 'NumberOfTimes90DaysLate',\n",
              "       'NumberRealEstateLoansOrLines', 'NumberOfTime60-89DaysPastDueNotWorse',\n",
              "       'NumberOfDependents'],\n",
              "      dtype='object')"
            ]
          },
          "metadata": {},
          "execution_count": 5
        }
      ]
    },
    {
      "cell_type": "code",
      "source": [
        "df.head()"
      ],
      "metadata": {
        "colab": {
          "base_uri": "https://localhost:8080/",
          "height": 287
        },
        "id": "w1QOkqIA9hFF",
        "outputId": "617c98e6-975a-40d0-9d5e-6c6986fd5274"
      },
      "execution_count": 6,
      "outputs": [
        {
          "output_type": "execute_result",
          "data": {
            "text/plain": [
              "   Sr_No  SeriousDlqin2yrs  monthly_utilization  age  \\\n",
              "0      1                 1             0.766127   45   \n",
              "1      2                 0             0.957151   40   \n",
              "2      3                 0             0.658180   38   \n",
              "3      4                 0             0.233810   30   \n",
              "4      5                 0             0.907239   49   \n",
              "\n",
              "   NumberOfTime30-59DaysPastDueNotWorse  DebtRatio  MonthlyIncome  \\\n",
              "0                                     2   0.802982         9120.0   \n",
              "1                                     0   0.121876         2600.0   \n",
              "2                                     1   0.085113         3042.0   \n",
              "3                                     0   0.036050         3300.0   \n",
              "4                                     1   0.024926        63588.0   \n",
              "\n",
              "   NumberOfOpenCreditLinesAndLoans  NumberOfTimes90DaysLate  \\\n",
              "0                               13                        0   \n",
              "1                                4                        0   \n",
              "2                                2                        1   \n",
              "3                                5                        0   \n",
              "4                                7                        0   \n",
              "\n",
              "   NumberRealEstateLoansOrLines  NumberOfTime60-89DaysPastDueNotWorse  \\\n",
              "0                             6                                     0   \n",
              "1                             0                                     0   \n",
              "2                             0                                     0   \n",
              "3                             0                                     0   \n",
              "4                             1                                     0   \n",
              "\n",
              "   NumberOfDependents  \n",
              "0                 2.0  \n",
              "1                 1.0  \n",
              "2                 0.0  \n",
              "3                 0.0  \n",
              "4                 0.0  "
            ],
            "text/html": [
              "\n",
              "  <div id=\"df-66809c0c-4d4f-4b75-9564-c0b5579c29ef\">\n",
              "    <div class=\"colab-df-container\">\n",
              "      <div>\n",
              "<style scoped>\n",
              "    .dataframe tbody tr th:only-of-type {\n",
              "        vertical-align: middle;\n",
              "    }\n",
              "\n",
              "    .dataframe tbody tr th {\n",
              "        vertical-align: top;\n",
              "    }\n",
              "\n",
              "    .dataframe thead th {\n",
              "        text-align: right;\n",
              "    }\n",
              "</style>\n",
              "<table border=\"1\" class=\"dataframe\">\n",
              "  <thead>\n",
              "    <tr style=\"text-align: right;\">\n",
              "      <th></th>\n",
              "      <th>Sr_No</th>\n",
              "      <th>SeriousDlqin2yrs</th>\n",
              "      <th>monthly_utilization</th>\n",
              "      <th>age</th>\n",
              "      <th>NumberOfTime30-59DaysPastDueNotWorse</th>\n",
              "      <th>DebtRatio</th>\n",
              "      <th>MonthlyIncome</th>\n",
              "      <th>NumberOfOpenCreditLinesAndLoans</th>\n",
              "      <th>NumberOfTimes90DaysLate</th>\n",
              "      <th>NumberRealEstateLoansOrLines</th>\n",
              "      <th>NumberOfTime60-89DaysPastDueNotWorse</th>\n",
              "      <th>NumberOfDependents</th>\n",
              "    </tr>\n",
              "  </thead>\n",
              "  <tbody>\n",
              "    <tr>\n",
              "      <th>0</th>\n",
              "      <td>1</td>\n",
              "      <td>1</td>\n",
              "      <td>0.766127</td>\n",
              "      <td>45</td>\n",
              "      <td>2</td>\n",
              "      <td>0.802982</td>\n",
              "      <td>9120.0</td>\n",
              "      <td>13</td>\n",
              "      <td>0</td>\n",
              "      <td>6</td>\n",
              "      <td>0</td>\n",
              "      <td>2.0</td>\n",
              "    </tr>\n",
              "    <tr>\n",
              "      <th>1</th>\n",
              "      <td>2</td>\n",
              "      <td>0</td>\n",
              "      <td>0.957151</td>\n",
              "      <td>40</td>\n",
              "      <td>0</td>\n",
              "      <td>0.121876</td>\n",
              "      <td>2600.0</td>\n",
              "      <td>4</td>\n",
              "      <td>0</td>\n",
              "      <td>0</td>\n",
              "      <td>0</td>\n",
              "      <td>1.0</td>\n",
              "    </tr>\n",
              "    <tr>\n",
              "      <th>2</th>\n",
              "      <td>3</td>\n",
              "      <td>0</td>\n",
              "      <td>0.658180</td>\n",
              "      <td>38</td>\n",
              "      <td>1</td>\n",
              "      <td>0.085113</td>\n",
              "      <td>3042.0</td>\n",
              "      <td>2</td>\n",
              "      <td>1</td>\n",
              "      <td>0</td>\n",
              "      <td>0</td>\n",
              "      <td>0.0</td>\n",
              "    </tr>\n",
              "    <tr>\n",
              "      <th>3</th>\n",
              "      <td>4</td>\n",
              "      <td>0</td>\n",
              "      <td>0.233810</td>\n",
              "      <td>30</td>\n",
              "      <td>0</td>\n",
              "      <td>0.036050</td>\n",
              "      <td>3300.0</td>\n",
              "      <td>5</td>\n",
              "      <td>0</td>\n",
              "      <td>0</td>\n",
              "      <td>0</td>\n",
              "      <td>0.0</td>\n",
              "    </tr>\n",
              "    <tr>\n",
              "      <th>4</th>\n",
              "      <td>5</td>\n",
              "      <td>0</td>\n",
              "      <td>0.907239</td>\n",
              "      <td>49</td>\n",
              "      <td>1</td>\n",
              "      <td>0.024926</td>\n",
              "      <td>63588.0</td>\n",
              "      <td>7</td>\n",
              "      <td>0</td>\n",
              "      <td>1</td>\n",
              "      <td>0</td>\n",
              "      <td>0.0</td>\n",
              "    </tr>\n",
              "  </tbody>\n",
              "</table>\n",
              "</div>\n",
              "      <button class=\"colab-df-convert\" onclick=\"convertToInteractive('df-66809c0c-4d4f-4b75-9564-c0b5579c29ef')\"\n",
              "              title=\"Convert this dataframe to an interactive table.\"\n",
              "              style=\"display:none;\">\n",
              "        \n",
              "  <svg xmlns=\"http://www.w3.org/2000/svg\" height=\"24px\"viewBox=\"0 0 24 24\"\n",
              "       width=\"24px\">\n",
              "    <path d=\"M0 0h24v24H0V0z\" fill=\"none\"/>\n",
              "    <path d=\"M18.56 5.44l.94 2.06.94-2.06 2.06-.94-2.06-.94-.94-2.06-.94 2.06-2.06.94zm-11 1L8.5 8.5l.94-2.06 2.06-.94-2.06-.94L8.5 2.5l-.94 2.06-2.06.94zm10 10l.94 2.06.94-2.06 2.06-.94-2.06-.94-.94-2.06-.94 2.06-2.06.94z\"/><path d=\"M17.41 7.96l-1.37-1.37c-.4-.4-.92-.59-1.43-.59-.52 0-1.04.2-1.43.59L10.3 9.45l-7.72 7.72c-.78.78-.78 2.05 0 2.83L4 21.41c.39.39.9.59 1.41.59.51 0 1.02-.2 1.41-.59l7.78-7.78 2.81-2.81c.8-.78.8-2.07 0-2.86zM5.41 20L4 18.59l7.72-7.72 1.47 1.35L5.41 20z\"/>\n",
              "  </svg>\n",
              "      </button>\n",
              "      \n",
              "  <style>\n",
              "    .colab-df-container {\n",
              "      display:flex;\n",
              "      flex-wrap:wrap;\n",
              "      gap: 12px;\n",
              "    }\n",
              "\n",
              "    .colab-df-convert {\n",
              "      background-color: #E8F0FE;\n",
              "      border: none;\n",
              "      border-radius: 50%;\n",
              "      cursor: pointer;\n",
              "      display: none;\n",
              "      fill: #1967D2;\n",
              "      height: 32px;\n",
              "      padding: 0 0 0 0;\n",
              "      width: 32px;\n",
              "    }\n",
              "\n",
              "    .colab-df-convert:hover {\n",
              "      background-color: #E2EBFA;\n",
              "      box-shadow: 0px 1px 2px rgba(60, 64, 67, 0.3), 0px 1px 3px 1px rgba(60, 64, 67, 0.15);\n",
              "      fill: #174EA6;\n",
              "    }\n",
              "\n",
              "    [theme=dark] .colab-df-convert {\n",
              "      background-color: #3B4455;\n",
              "      fill: #D2E3FC;\n",
              "    }\n",
              "\n",
              "    [theme=dark] .colab-df-convert:hover {\n",
              "      background-color: #434B5C;\n",
              "      box-shadow: 0px 1px 3px 1px rgba(0, 0, 0, 0.15);\n",
              "      filter: drop-shadow(0px 1px 2px rgba(0, 0, 0, 0.3));\n",
              "      fill: #FFFFFF;\n",
              "    }\n",
              "  </style>\n",
              "\n",
              "      <script>\n",
              "        const buttonEl =\n",
              "          document.querySelector('#df-66809c0c-4d4f-4b75-9564-c0b5579c29ef button.colab-df-convert');\n",
              "        buttonEl.style.display =\n",
              "          google.colab.kernel.accessAllowed ? 'block' : 'none';\n",
              "\n",
              "        async function convertToInteractive(key) {\n",
              "          const element = document.querySelector('#df-66809c0c-4d4f-4b75-9564-c0b5579c29ef');\n",
              "          const dataTable =\n",
              "            await google.colab.kernel.invokeFunction('convertToInteractive',\n",
              "                                                     [key], {});\n",
              "          if (!dataTable) return;\n",
              "\n",
              "          const docLinkHtml = 'Like what you see? Visit the ' +\n",
              "            '<a target=\"_blank\" href=https://colab.research.google.com/notebooks/data_table.ipynb>data table notebook</a>'\n",
              "            + ' to learn more about interactive tables.';\n",
              "          element.innerHTML = '';\n",
              "          dataTable['output_type'] = 'display_data';\n",
              "          await google.colab.output.renderOutput(dataTable, element);\n",
              "          const docLink = document.createElement('div');\n",
              "          docLink.innerHTML = docLinkHtml;\n",
              "          element.appendChild(docLink);\n",
              "        }\n",
              "      </script>\n",
              "    </div>\n",
              "  </div>\n",
              "  "
            ]
          },
          "metadata": {},
          "execution_count": 6
        }
      ]
    },
    {
      "cell_type": "code",
      "source": [
        "df.isnull().sum()"
      ],
      "metadata": {
        "colab": {
          "base_uri": "https://localhost:8080/"
        },
        "id": "RyT7dmPh96tE",
        "outputId": "da6bed2c-917c-40c9-8c63-d208e15bfbe2"
      },
      "execution_count": 7,
      "outputs": [
        {
          "output_type": "execute_result",
          "data": {
            "text/plain": [
              "Sr_No                                       0\n",
              "SeriousDlqin2yrs                            0\n",
              "monthly_utilization                         0\n",
              "age                                         0\n",
              "NumberOfTime30-59DaysPastDueNotWorse        0\n",
              "DebtRatio                                   0\n",
              "MonthlyIncome                           29731\n",
              "NumberOfOpenCreditLinesAndLoans             0\n",
              "NumberOfTimes90DaysLate                     0\n",
              "NumberRealEstateLoansOrLines                0\n",
              "NumberOfTime60-89DaysPastDueNotWorse        0\n",
              "NumberOfDependents                       3924\n",
              "dtype: int64"
            ]
          },
          "metadata": {},
          "execution_count": 7
        }
      ]
    },
    {
      "cell_type": "code",
      "source": [
        "df.isnull().sum()/len(df)*100"
      ],
      "metadata": {
        "colab": {
          "base_uri": "https://localhost:8080/"
        },
        "id": "4Jq5UrRXRPcw",
        "outputId": "ff574521-1135-4111-d51e-876d82e40c56"
      },
      "execution_count": 8,
      "outputs": [
        {
          "output_type": "execute_result",
          "data": {
            "text/plain": [
              "Sr_No                                    0.000000\n",
              "SeriousDlqin2yrs                         0.000000\n",
              "monthly_utilization                      0.000000\n",
              "age                                      0.000000\n",
              "NumberOfTime30-59DaysPastDueNotWorse     0.000000\n",
              "DebtRatio                                0.000000\n",
              "MonthlyIncome                           19.820667\n",
              "NumberOfOpenCreditLinesAndLoans          0.000000\n",
              "NumberOfTimes90DaysLate                  0.000000\n",
              "NumberRealEstateLoansOrLines             0.000000\n",
              "NumberOfTime60-89DaysPastDueNotWorse     0.000000\n",
              "NumberOfDependents                       2.616000\n",
              "dtype: float64"
            ]
          },
          "metadata": {},
          "execution_count": 8
        }
      ]
    },
    {
      "cell_type": "markdown",
      "source": [
        "# Categorical variables exploration"
      ],
      "metadata": {
        "id": "3tjlzaJgg-gp"
      }
    },
    {
      "cell_type": "code",
      "source": [
        "print(df['SeriousDlqin2yrs'].value_counts())\n",
        "sns.countplot(y=\"SeriousDlqin2yrs\",  data=df)\n",
        "print('null=',df['SeriousDlqin2yrs'].isnull().sum())\n",
        "#No issue"
      ],
      "metadata": {
        "colab": {
          "base_uri": "https://localhost:8080/",
          "height": 348
        },
        "id": "TBAso1wXhSPw",
        "outputId": "b29d1510-abf6-4155-85e3-5e81e89f8b2e"
      },
      "execution_count": 9,
      "outputs": [
        {
          "output_type": "stream",
          "name": "stdout",
          "text": [
            "0    139974\n",
            "1     10026\n",
            "Name: SeriousDlqin2yrs, dtype: int64\n",
            "null= 0\n"
          ]
        },
        {
          "output_type": "display_data",
          "data": {
            "text/plain": [
              "<Figure size 432x288 with 1 Axes>"
            ],
            "image/png": "[encoded data removed]"
          },
          "metadata": {
            "needs_background": "light"
          }
        }
      ]
    },
    {
      "cell_type": "code",
      "source": [
        "print(df['age'].value_counts())\n",
        "sns.countplot(y=\"age\",  data=df)\n",
        "print('null=',df['age'].isnull().sum())\n",
        "print(\"Min=\",df['age'].min())\n",
        "print(\"Max=\",df['age'].max())\n",
        "# there is an issue where below 18 and aove 100+ age but it depends upon the business model."
      ],
      "metadata": {
        "colab": {
          "base_uri": "https://localhost:8080/",
          "height": 542
        },
        "id": "8KUW0SE8kHtJ",
        "outputId": "4b575505-2ca5-4ede-a7d6-f696da922efa"
      },
      "execution_count": 10,
      "outputs": [
        {
          "output_type": "stream",
          "name": "stdout",
          "text": [
            "49     3837\n",
            "48     3806\n",
            "50     3753\n",
            "47     3719\n",
            "63     3719\n",
            "       ... \n",
            "102       3\n",
            "109       2\n",
            "107       1\n",
            "105       1\n",
            "0         1\n",
            "Name: age, Length: 86, dtype: int64\n",
            "null= 0\n",
            "Min= 0\n",
            "Max= 109\n"
          ]
        },
        {
          "output_type": "display_data",
          "data": {
            "text/plain": [
              "<Figure size 432x288 with 1 Axes>"
            ],
            "image/png": "[encoded data removed]"
          },
          "metadata": {
            "needs_background": "light"
          }
        }
      ]
    },
    {
      "cell_type": "code",
      "source": [
        "print(df['NumberOfTime30-59DaysPastDueNotWorse'].value_counts())\n",
        "sns.countplot(y=\"NumberOfTime30-59DaysPastDueNotWorse\",  data=df)\n",
        "print('null=',df['NumberOfTime30-59DaysPastDueNotWorse'].isnull().sum())\n",
        "#issue: error data more than 24"
      ],
      "metadata": {
        "colab": {
          "base_uri": "https://localhost:8080/",
          "height": 592
        },
        "id": "YBoghHzOugGh",
        "outputId": "5d4e5c3d-7dd0-4368-8586-51c9a1eb3a61"
      },
      "execution_count": 11,
      "outputs": [
        {
          "output_type": "stream",
          "name": "stdout",
          "text": [
            "0     126018\n",
            "1      16033\n",
            "2       4598\n",
            "3       1754\n",
            "4        747\n",
            "5        342\n",
            "98       264\n",
            "6        140\n",
            "7         54\n",
            "8         25\n",
            "9         12\n",
            "96         5\n",
            "10         4\n",
            "12         2\n",
            "13         1\n",
            "11         1\n",
            "Name: NumberOfTime30-59DaysPastDueNotWorse, dtype: int64\n",
            "null= 0\n"
          ]
        },
        {
          "output_type": "display_data",
          "data": {
            "text/plain": [
              "<Figure size 432x288 with 1 Axes>"
            ],
            "image/png": "[encoded data removed]"
          },
          "metadata": {
            "needs_background": "light"
          }
        }
      ]
    },
    {
      "cell_type": "code",
      "source": [
        "print(df['NumberOfOpenCreditLinesAndLoans'].value_counts())\n",
        "sns.countplot(y=\"NumberOfOpenCreditLinesAndLoans\",  data=df)\n",
        "print('null=',df['NumberOfOpenCreditLinesAndLoans'].isnull().sum())\n",
        "#No issue"
      ],
      "metadata": {
        "colab": {
          "base_uri": "https://localhost:8080/",
          "height": 1000
        },
        "id": "HfjxaA4LvUSf",
        "outputId": "887138bd-d5e8-4bbe-8abc-e2e67342ba60"
      },
      "execution_count": 12,
      "outputs": [
        {
          "output_type": "stream",
          "name": "stdout",
          "text": [
            "6     13614\n",
            "7     13245\n",
            "5     12931\n",
            "8     12562\n",
            "4     11609\n",
            "9     11355\n",
            "10     9624\n",
            "3      9058\n",
            "11     8321\n",
            "12     7005\n",
            "2      6666\n",
            "13     5667\n",
            "14     4546\n",
            "1      4438\n",
            "15     3645\n",
            "16     3000\n",
            "17     2370\n",
            "0      1888\n",
            "18     1874\n",
            "19     1433\n",
            "20     1169\n",
            "21      864\n",
            "22      685\n",
            "23      533\n",
            "24      422\n",
            "25      337\n",
            "26      239\n",
            "27      194\n",
            "28      150\n",
            "29      114\n",
            "30       88\n",
            "31       74\n",
            "32       52\n",
            "33       47\n",
            "34       35\n",
            "35       27\n",
            "36       18\n",
            "38       13\n",
            "40       10\n",
            "39        9\n",
            "42        8\n",
            "45        8\n",
            "43        8\n",
            "37        7\n",
            "48        6\n",
            "49        4\n",
            "54        4\n",
            "41        4\n",
            "52        3\n",
            "46        3\n",
            "57        2\n",
            "51        2\n",
            "56        2\n",
            "47        2\n",
            "50        2\n",
            "44        2\n",
            "58        1\n",
            "53        1\n",
            "Name: NumberOfOpenCreditLinesAndLoans, dtype: int64\n",
            "null= 0\n"
          ]
        },
        {
          "output_type": "display_data",
          "data": {
            "text/plain": [
              "<Figure size 432x288 with 1 Axes>"
            ],
            "image/png": "[encoded data removed]"
          },
          "metadata": {
            "needs_background": "light"
          }
        }
      ]
    },
    {
      "cell_type": "code",
      "source": [
        "print(df['NumberOfTimes90DaysLate'].value_counts())\n",
        "sns.countplot(y=\"NumberOfTimes90DaysLate\",  data=df)\n",
        "print('null=',df['NumberOfTimes90DaysLate'].isnull().sum())\n",
        "#issue: some data are more than 24 times "
      ],
      "metadata": {
        "colab": {
          "base_uri": "https://localhost:8080/",
          "height": 643
        },
        "id": "0z6HAiXDwATi",
        "outputId": "225b5681-0492-475a-b242-02ed0e26c79f"
      },
      "execution_count": 13,
      "outputs": [
        {
          "output_type": "stream",
          "name": "stdout",
          "text": [
            "0     141662\n",
            "1       5243\n",
            "2       1555\n",
            "3        667\n",
            "4        291\n",
            "98       264\n",
            "5        131\n",
            "6         80\n",
            "7         38\n",
            "8         21\n",
            "9         19\n",
            "10         8\n",
            "96         5\n",
            "11         5\n",
            "13         4\n",
            "15         2\n",
            "14         2\n",
            "12         2\n",
            "17         1\n",
            "Name: NumberOfTimes90DaysLate, dtype: int64\n",
            "null= 0\n"
          ]
        },
        {
          "output_type": "display_data",
          "data": {
            "text/plain": [
              "<Figure size 432x288 with 1 Axes>"
            ],
            "image/png": "[encoded data removed]"
          },
          "metadata": {
            "needs_background": "light"
          }
        }
      ]
    },
    {
      "cell_type": "code",
      "source": [
        "print(df['NumberRealEstateLoansOrLines'].value_counts())\n",
        "sns.countplot(y=\"NumberRealEstateLoansOrLines\",  data=df)\n",
        "print('null=',df['NumberRealEstateLoansOrLines'].isnull().sum())\n",
        "#No issue"
      ],
      "metadata": {
        "colab": {
          "base_uri": "https://localhost:8080/",
          "height": 800
        },
        "id": "vwPcmtNCFMaN",
        "outputId": "69db961d-f356-4d96-99ce-927b3cdb0058"
      },
      "execution_count": 14,
      "outputs": [
        {
          "output_type": "stream",
          "name": "stdout",
          "text": [
            "0     56188\n",
            "1     52338\n",
            "2     31522\n",
            "3      6300\n",
            "4      2170\n",
            "5       689\n",
            "6       320\n",
            "7       171\n",
            "8        93\n",
            "9        78\n",
            "10       37\n",
            "11       23\n",
            "12       18\n",
            "13       15\n",
            "15        7\n",
            "14        7\n",
            "17        4\n",
            "16        4\n",
            "25        3\n",
            "18        2\n",
            "23        2\n",
            "19        2\n",
            "20        2\n",
            "26        1\n",
            "54        1\n",
            "21        1\n",
            "29        1\n",
            "32        1\n",
            "Name: NumberRealEstateLoansOrLines, dtype: int64\n",
            "null= 0\n"
          ]
        },
        {
          "output_type": "display_data",
          "data": {
            "text/plain": [
              "<Figure size 432x288 with 1 Axes>"
            ],
            "image/png": "[encoded data removed]"
          },
          "metadata": {
            "needs_background": "light"
          }
        }
      ]
    },
    {
      "cell_type": "code",
      "source": [
        "print(df['NumberOfTime60-89DaysPastDueNotWorse'].value_counts())\n",
        "sns.countplot(y=\"NumberOfTime60-89DaysPastDueNotWorse\",  data=df)\n",
        "print('null=',df['NumberOfTime60-89DaysPastDueNotWorse'].isnull().sum())\n",
        "#No issue"
      ],
      "metadata": {
        "colab": {
          "base_uri": "https://localhost:8080/",
          "height": 540
        },
        "id": "rghkWwuFGF9q",
        "outputId": "8389cd96-e1a3-4977-ccac-d6af39d01341"
      },
      "execution_count": 15,
      "outputs": [
        {
          "output_type": "stream",
          "name": "stdout",
          "text": [
            "0     142396\n",
            "1       5731\n",
            "2       1118\n",
            "3        318\n",
            "98       264\n",
            "4        105\n",
            "5         34\n",
            "6         16\n",
            "7          9\n",
            "96         5\n",
            "8          2\n",
            "11         1\n",
            "9          1\n",
            "Name: NumberOfTime60-89DaysPastDueNotWorse, dtype: int64\n",
            "null= 0\n"
          ]
        },
        {
          "output_type": "display_data",
          "data": {
            "text/plain": [
              "<Figure size 432x288 with 1 Axes>"
            ],
            "image/png": "[encoded data removed]"
          },
          "metadata": {
            "needs_background": "light"
          }
        }
      ]
    },
    {
      "cell_type": "code",
      "source": [
        "print(df['NumberOfDependents'].value_counts())\n",
        "sns.countplot(y=\"NumberOfDependents\",  data=df)\n",
        "print('null=',df['NumberOfDependents'].isnull().sum())\n",
        "#Null values present"
      ],
      "metadata": {
        "colab": {
          "base_uri": "https://localhost:8080/",
          "height": 539
        },
        "id": "KBpU70uiGtaO",
        "outputId": "91846440-1e70-445b-8ab0-9f4f7b8730f2"
      },
      "execution_count": 16,
      "outputs": [
        {
          "output_type": "stream",
          "name": "stdout",
          "text": [
            "0.0     86902\n",
            "1.0     26316\n",
            "2.0     19522\n",
            "3.0      9483\n",
            "4.0      2862\n",
            "5.0       746\n",
            "6.0       158\n",
            "7.0        51\n",
            "8.0        24\n",
            "10.0        5\n",
            "9.0         5\n",
            "20.0        1\n",
            "13.0        1\n",
            "Name: NumberOfDependents, dtype: int64\n",
            "null= 3924\n"
          ]
        },
        {
          "output_type": "display_data",
          "data": {
            "text/plain": [
              "<Figure size 432x288 with 1 Axes>"
            ],
            "image/png": "[encoded data removed]"
          },
          "metadata": {
            "needs_background": "light"
          }
        }
      ]
    },
    {
      "cell_type": "markdown",
      "source": [
        "# Continuous variables exploration:"
      ],
      "metadata": {
        "id": "Az8ahR-uxjQo"
      }
    },
    {
      "cell_type": "code",
      "source": [
        "plt.boxplot(df['monthly_utilization'])\n",
        "# Result: outliers present."
      ],
      "metadata": {
        "colab": {
          "base_uri": "https://localhost:8080/",
          "height": 0
        },
        "id": "hQoJ3p4QxmzZ",
        "outputId": "8f80fb98-a8bf-41a2-e084-4913c297ad77"
      },
      "execution_count": 17,
      "outputs": [
        {
          "output_type": "execute_result",
          "data": {
            "text/plain": [
              "{'whiskers': [<matplotlib.lines.Line2D at 0x7fafb3c259d0>,\n",
              "  <matplotlib.lines.Line2D at 0x7fafb3c25f10>],\n",
              " 'caps': [<matplotlib.lines.Line2D at 0x7fafb3c2d490>,\n",
              "  <matplotlib.lines.Line2D at 0x7fafb3c2d9d0>],\n",
              " 'boxes': [<matplotlib.lines.Line2D at 0x7fafb3c25450>],\n",
              " 'medians': [<matplotlib.lines.Line2D at 0x7fafb3c2df50>],\n",
              " 'fliers': [<matplotlib.lines.Line2D at 0x7fafb3c344d0>],\n",
              " 'means': []}"
            ]
          },
          "metadata": {},
          "execution_count": 17
        },
        {
          "output_type": "display_data",
          "data": {
            "text/plain": [
              "<Figure size 432x288 with 1 Axes>"
            ],
            "image/png": "[encoded data removed]"
          },
          "metadata": {
            "needs_background": "light"
          }
        }
      ]
    },
    {
      "cell_type": "code",
      "source": [
        "plt.hist(df['monthly_utilization'])"
      ],
      "metadata": {
        "colab": {
          "base_uri": "https://localhost:8080/",
          "height": 0
        },
        "id": "172c9vcp0b3V",
        "outputId": "7dcacb3e-585c-4bac-b6f0-f8aa9b5ffba4"
      },
      "execution_count": 18,
      "outputs": [
        {
          "output_type": "execute_result",
          "data": {
            "text/plain": [
              "(array([1.49953e+05, 3.10000e+01, 9.00000e+00, 2.00000e+00, 3.00000e+00,\n",
              "        1.00000e+00, 0.00000e+00, 0.00000e+00, 0.00000e+00, 1.00000e+00]),\n",
              " array([    0. ,  5070.8, 10141.6, 15212.4, 20283.2, 25354. , 30424.8,\n",
              "        35495.6, 40566.4, 45637.2, 50708. ]),\n",
              " <a list of 10 Patch objects>)"
            ]
          },
          "metadata": {},
          "execution_count": 18
        },
        {
          "output_type": "display_data",
          "data": {
            "text/plain": [
              "<Figure size 432x288 with 1 Axes>"
            ],
            "image/png": "[encoded data removed]"
          },
          "metadata": {
            "needs_background": "light"
          }
        }
      ]
    },
    {
      "cell_type": "code",
      "source": [
        "util_percentiles=df['monthly_utilization'].quantile([0.05, 0.1, 0.25, 0.5, 0.75, 0.80, 0.9,0.91,0.95,0.96,0.97,0.975,0.98,0.99,1])\n",
        "round(util_percentiles,2)"
      ],
      "metadata": {
        "colab": {
          "base_uri": "https://localhost:8080/"
        },
        "id": "xb1Klm5G00pt",
        "outputId": "59b1c7da-3819-43fe-e6f5-64bcde6d334e"
      },
      "execution_count": 19,
      "outputs": [
        {
          "output_type": "execute_result",
          "data": {
            "text/plain": [
              "0.050        0.00\n",
              "0.100        0.00\n",
              "0.250        0.03\n",
              "0.500        0.15\n",
              "0.750        0.56\n",
              "0.800        0.70\n",
              "0.900        0.98\n",
              "0.910        1.00\n",
              "0.950        1.00\n",
              "0.960        1.00\n",
              "0.970        1.00\n",
              "0.975        1.00\n",
              "0.980        1.01\n",
              "0.990        1.09\n",
              "1.000    50708.00\n",
              "Name: monthly_utilization, dtype: float64"
            ]
          },
          "metadata": {},
          "execution_count": 19
        }
      ]
    },
    {
      "cell_type": "code",
      "source": [
        "non_null_monthly_income=df[\"MonthlyIncome\"][df[\"MonthlyIncome\"].isnull()==False]\n",
        "plt.boxplot(non_null_monthly_income)"
      ],
      "metadata": {
        "colab": {
          "base_uri": "https://localhost:8080/",
          "height": 0
        },
        "id": "lKJhZLLPAiYz",
        "outputId": "3e2fceaf-a01b-44e9-af65-59068d80c664"
      },
      "execution_count": 20,
      "outputs": [
        {
          "output_type": "execute_result",
          "data": {
            "text/plain": [
              "{'whiskers': [<matplotlib.lines.Line2D at 0x7fafb3b27910>,\n",
              "  <matplotlib.lines.Line2D at 0x7fafb3b27e50>],\n",
              " 'caps': [<matplotlib.lines.Line2D at 0x7fafb3b2d3d0>,\n",
              "  <matplotlib.lines.Line2D at 0x7fafb3b2d910>],\n",
              " 'boxes': [<matplotlib.lines.Line2D at 0x7fafb3b27410>],\n",
              " 'medians': [<matplotlib.lines.Line2D at 0x7fafb3b2de90>],\n",
              " 'fliers': [<matplotlib.lines.Line2D at 0x7fafb3b36410>],\n",
              " 'means': []}"
            ]
          },
          "metadata": {},
          "execution_count": 20
        },
        {
          "output_type": "display_data",
          "data": {
            "text/plain": [
              "<Figure size 432x288 with 1 Axes>"
            ],
            "image/png": "[encoded data removed]"
          },
          "metadata": {
            "needs_background": "light"
          }
        }
      ]
    },
    {
      "cell_type": "code",
      "source": [
        "plt.hist(df['MonthlyIncome'])"
      ],
      "metadata": {
        "colab": {
          "base_uri": "https://localhost:8080/",
          "height": 0
        },
        "id": "ZBWwpX2xDrbg",
        "outputId": "989d3230-c013-4bac-b860-617411a45cf5"
      },
      "execution_count": 21,
      "outputs": [
        {
          "output_type": "execute_result",
          "data": {
            "text/plain": [
              "(array([1.20252e+05, 7.00000e+00, 6.00000e+00, 1.00000e+00, 0.00000e+00,\n",
              "        2.00000e+00, 0.00000e+00, 0.00000e+00, 0.00000e+00, 1.00000e+00]),\n",
              " array([      0.,  300875.,  601750.,  902625., 1203500., 1504375.,\n",
              "        1805250., 2106125., 2407000., 2707875., 3008750.]),\n",
              " <a list of 10 Patch objects>)"
            ]
          },
          "metadata": {},
          "execution_count": 21
        },
        {
          "output_type": "display_data",
          "data": {
            "text/plain": [
              "<Figure size 432x288 with 1 Axes>"
            ],
            "image/png": "[encoded data removed]"
          },
          "metadata": {
            "needs_background": "light"
          }
        }
      ]
    },
    {
      "cell_type": "code",
      "source": [
        "#Find the percentage of missing values\n",
        "print(\"Count of missing values\")\n",
        "print(df['MonthlyIncome'].isnull().sum())\n",
        "print(\"% of missing values\")\n",
        "print(round(df['MonthlyIncome'].isnull().sum()/len(df),2))"
      ],
      "metadata": {
        "colab": {
          "base_uri": "https://localhost:8080/"
        },
        "id": "sw37JsQaECsd",
        "outputId": "e36d8697-77e8-4a4f-e625-cdb402687d12"
      },
      "execution_count": 22,
      "outputs": [
        {
          "output_type": "stream",
          "name": "stdout",
          "text": [
            "Count of missing values\n",
            "29731\n",
            "% of missing values\n",
            "0.2\n"
          ]
        }
      ]
    },
    {
      "cell_type": "markdown",
      "source": [
        "# Data Cleaning :"
      ],
      "metadata": {
        "id": "XedOXcZc_dLt"
      }
    },
    {
      "cell_type": "markdown",
      "source": [
        "# ['monthly_utilization']"
      ],
      "metadata": {
        "id": "6K9pSZfmGVzO"
      }
    },
    {
      "cell_type": "markdown",
      "source": [
        "Outliers present in \"Monthly utilisation\" parameter.We are replacing outliers with Median."
      ],
      "metadata": {
        "id": "ZmQd5rwLABxH"
      }
    },
    {
      "cell_type": "code",
      "source": [
        "util_median=df['monthly_utilization'].median()\n",
        "util_median"
      ],
      "metadata": {
        "colab": {
          "base_uri": "https://localhost:8080/"
        },
        "id": "vmb5IWm1AVmJ",
        "outputId": "8fdffaec-4499-422b-8582-15b83e6d81e5"
      },
      "execution_count": 23,
      "outputs": [
        {
          "output_type": "execute_result",
          "data": {
            "text/plain": [
              "0.154180737"
            ]
          },
          "metadata": {},
          "execution_count": 23
        }
      ]
    },
    {
      "cell_type": "code",
      "source": [
        "util_bool=df['monthly_utilization']>1\n",
        "df['util_new']=df['monthly_utilization']\n",
        "df['util_new'][util_bool]=util_median"
      ],
      "metadata": {
        "colab": {
          "base_uri": "https://localhost:8080/"
        },
        "id": "9f35g6A9FHjA",
        "outputId": "7e0df6b3-8f8f-4b8c-e3f3-1695647fdce1"
      },
      "execution_count": 24,
      "outputs": [
        {
          "output_type": "stream",
          "name": "stderr",
          "text": [
            "/usr/local/lib/python3.7/dist-packages/ipykernel_launcher.py:3: SettingWithCopyWarning: \n",
            "A value is trying to be set on a copy of a slice from a DataFrame\n",
            "\n",
            "See the caveats in the documentation: https://pandas.pydata.org/pandas-docs/stable/user_guide/indexing.html#returning-a-view-versus-a-copy\n",
            "  This is separate from the ipykernel package so we can avoid doing imports until\n"
          ]
        }
      ]
    },
    {
      "cell_type": "code",
      "source": [
        "#checking outliers with new variable:\n",
        "util_percentiles_new=df['util_new'].quantile([0.05, 0.1, 0.25, 0.5, 0.75, 0.80, 0.9,0.91,0.95,0.96,0.97,0.975,0.98,0.99,1])\n",
        "round(util_percentiles_new,2)"
      ],
      "metadata": {
        "colab": {
          "base_uri": "https://localhost:8080/"
        },
        "id": "9wBvVEsPGAhG",
        "outputId": "4c8d666a-27e8-4bc7-ac13-97aea3fa6441"
      },
      "execution_count": 25,
      "outputs": [
        {
          "output_type": "execute_result",
          "data": {
            "text/plain": [
              "0.050    0.00\n",
              "0.100    0.00\n",
              "0.250    0.03\n",
              "0.500    0.15\n",
              "0.750    0.51\n",
              "0.800    0.63\n",
              "0.900    0.93\n",
              "0.910    0.95\n",
              "0.950    1.00\n",
              "0.960    1.00\n",
              "0.970    1.00\n",
              "0.975    1.00\n",
              "0.980    1.00\n",
              "0.990    1.00\n",
              "1.000    1.00\n",
              "Name: util_new, dtype: float64"
            ]
          },
          "metadata": {},
          "execution_count": 25
        }
      ]
    },
    {
      "cell_type": "markdown",
      "source": [
        "# ['MonthlyIncome']"
      ],
      "metadata": {
        "id": "_r2WDbYcGm8k"
      }
    },
    {
      "cell_type": "code",
      "source": [
        "#Find the missing value percentage in monthly income\n",
        "print(\"null=\",df['MonthlyIncome'].isnull().sum())\n",
        "print(df['MonthlyIncome'].isnull().sum()/len(df))\n",
        "#Once identified where missing values exist, the next task usually is to fill them (data imputation). Depending upon the context,\n",
        "#in this case, I am assigning median value to all those positions where missing value is present:"
      ],
      "metadata": {
        "colab": {
          "base_uri": "https://localhost:8080/"
        },
        "id": "Z-5LbrOiGsZ_",
        "outputId": "cacfcade-17b7-44a0-97ad-c4f00cfa4084"
      },
      "execution_count": 26,
      "outputs": [
        {
          "output_type": "stream",
          "name": "stdout",
          "text": [
            "null= 29731\n",
            "0.19820666666666667\n"
          ]
        }
      ]
    },
    {
      "cell_type": "code",
      "source": [
        "# Now imputation with median\n",
        "df['MonthlyIncome_new']=df['MonthlyIncome']\n",
        "df['MonthlyIncome_new'][df['MonthlyIncome_new'].isnull()]=df['MonthlyIncome'].median()\n",
        "print(round(df['MonthlyIncome_new'].describe()))\n",
        "print(\"null=\",df['MonthlyIncome_new'].isnull().sum())"
      ],
      "metadata": {
        "colab": {
          "base_uri": "https://localhost:8080/"
        },
        "id": "Jb511MJSL5Ee",
        "outputId": "6b3048bd-ab07-4518-bcaf-1b825cb13e66"
      },
      "execution_count": 27,
      "outputs": [
        {
          "output_type": "stream",
          "name": "stdout",
          "text": [
            "count     150000.0\n",
            "mean        6418.0\n",
            "std        12890.0\n",
            "min            0.0\n",
            "25%         3903.0\n",
            "50%         5400.0\n",
            "75%         7400.0\n",
            "max      3008750.0\n",
            "Name: MonthlyIncome_new, dtype: float64\n",
            "null= 0\n"
          ]
        },
        {
          "output_type": "stream",
          "name": "stderr",
          "text": [
            "/usr/local/lib/python3.7/dist-packages/ipykernel_launcher.py:3: SettingWithCopyWarning: \n",
            "A value is trying to be set on a copy of a slice from a DataFrame\n",
            "\n",
            "See the caveats in the documentation: https://pandas.pydata.org/pandas-docs/stable/user_guide/indexing.html#returning-a-view-versus-a-copy\n",
            "  This is separate from the ipykernel package so we can avoid doing imports until\n"
          ]
        }
      ]
    },
    {
      "cell_type": "markdown",
      "source": [
        "# ['NumberOfTime30-59DaysPastDueNotWorse']"
      ],
      "metadata": {
        "id": "MpbZj7HUU3jX"
      }
    },
    {
      "cell_type": "code",
      "source": [
        "df['NumberOfTime30-59DaysPastDueNotWorse'].value_counts()\n",
        "# In a period of 2 years , count can not be more than 24. Hecne, here we are using cross tab of variable vs target. Impute based on target to remove illogocal data. "
      ],
      "metadata": {
        "colab": {
          "base_uri": "https://localhost:8080/"
        },
        "id": "3AyKZZmbU91o",
        "outputId": "678a4da4-47dc-470e-cbe3-5c1348505e49"
      },
      "execution_count": 28,
      "outputs": [
        {
          "output_type": "execute_result",
          "data": {
            "text/plain": [
              "0     126018\n",
              "1      16033\n",
              "2       4598\n",
              "3       1754\n",
              "4        747\n",
              "5        342\n",
              "98       264\n",
              "6        140\n",
              "7         54\n",
              "8         25\n",
              "9         12\n",
              "96         5\n",
              "10         4\n",
              "12         2\n",
              "13         1\n",
              "11         1\n",
              "Name: NumberOfTime30-59DaysPastDueNotWorse, dtype: int64"
            ]
          },
          "metadata": {},
          "execution_count": 28
        }
      ]
    },
    {
      "cell_type": "code",
      "source": [
        "cross_tab_30dpd_target=pd.crosstab(df['NumberOfTime30-59DaysPastDueNotWorse'],df['SeriousDlqin2yrs'])\n",
        "cross_tab_30dpd_target"
      ],
      "metadata": {
        "colab": {
          "base_uri": "https://localhost:8080/",
          "height": 0
        },
        "id": "x1xaqdpuVfJT",
        "outputId": "82bb7c87-c6ea-4a6f-f871-f921ba04100a"
      },
      "execution_count": 29,
      "outputs": [
        {
          "output_type": "execute_result",
          "data": {
            "text/plain": [
              "SeriousDlqin2yrs                           0     1\n",
              "NumberOfTime30-59DaysPastDueNotWorse              \n",
              "0                                     120977  5041\n",
              "1                                      13624  2409\n",
              "2                                       3379  1219\n",
              "3                                       1136   618\n",
              "4                                        429   318\n",
              "5                                        188   154\n",
              "6                                         66    74\n",
              "7                                         26    28\n",
              "8                                         17     8\n",
              "9                                          8     4\n",
              "10                                         1     3\n",
              "11                                         0     1\n",
              "12                                         1     1\n",
              "13                                         0     1\n",
              "96                                         1     4\n",
              "98                                       121   143"
            ],
            "text/html": [
              "\n",
              "  <div id=\"df-959a91de-36ff-4a57-a005-869db0a331c6\">\n",
              "    <div class=\"colab-df-container\">\n",
              "      <div>\n",
              "<style scoped>\n",
              "    .dataframe tbody tr th:only-of-type {\n",
              "        vertical-align: middle;\n",
              "    }\n",
              "\n",
              "    .dataframe tbody tr th {\n",
              "        vertical-align: top;\n",
              "    }\n",
              "\n",
              "    .dataframe thead th {\n",
              "        text-align: right;\n",
              "    }\n",
              "</style>\n",
              "<table border=\"1\" class=\"dataframe\">\n",
              "  <thead>\n",
              "    <tr style=\"text-align: right;\">\n",
              "      <th>SeriousDlqin2yrs</th>\n",
              "      <th>0</th>\n",
              "      <th>1</th>\n",
              "    </tr>\n",
              "    <tr>\n",
              "      <th>NumberOfTime30-59DaysPastDueNotWorse</th>\n",
              "      <th></th>\n",
              "      <th></th>\n",
              "    </tr>\n",
              "  </thead>\n",
              "  <tbody>\n",
              "    <tr>\n",
              "      <th>0</th>\n",
              "      <td>120977</td>\n",
              "      <td>5041</td>\n",
              "    </tr>\n",
              "    <tr>\n",
              "      <th>1</th>\n",
              "      <td>13624</td>\n",
              "      <td>2409</td>\n",
              "    </tr>\n",
              "    <tr>\n",
              "      <th>2</th>\n",
              "      <td>3379</td>\n",
              "      <td>1219</td>\n",
              "    </tr>\n",
              "    <tr>\n",
              "      <th>3</th>\n",
              "      <td>1136</td>\n",
              "      <td>618</td>\n",
              "    </tr>\n",
              "    <tr>\n",
              "      <th>4</th>\n",
              "      <td>429</td>\n",
              "      <td>318</td>\n",
              "    </tr>\n",
              "    <tr>\n",
              "      <th>5</th>\n",
              "      <td>188</td>\n",
              "      <td>154</td>\n",
              "    </tr>\n",
              "    <tr>\n",
              "      <th>6</th>\n",
              "      <td>66</td>\n",
              "      <td>74</td>\n",
              "    </tr>\n",
              "    <tr>\n",
              "      <th>7</th>\n",
              "      <td>26</td>\n",
              "      <td>28</td>\n",
              "    </tr>\n",
              "    <tr>\n",
              "      <th>8</th>\n",
              "      <td>17</td>\n",
              "      <td>8</td>\n",
              "    </tr>\n",
              "    <tr>\n",
              "      <th>9</th>\n",
              "      <td>8</td>\n",
              "      <td>4</td>\n",
              "    </tr>\n",
              "    <tr>\n",
              "      <th>10</th>\n",
              "      <td>1</td>\n",
              "      <td>3</td>\n",
              "    </tr>\n",
              "    <tr>\n",
              "      <th>11</th>\n",
              "      <td>0</td>\n",
              "      <td>1</td>\n",
              "    </tr>\n",
              "    <tr>\n",
              "      <th>12</th>\n",
              "      <td>1</td>\n",
              "      <td>1</td>\n",
              "    </tr>\n",
              "    <tr>\n",
              "      <th>13</th>\n",
              "      <td>0</td>\n",
              "      <td>1</td>\n",
              "    </tr>\n",
              "    <tr>\n",
              "      <th>96</th>\n",
              "      <td>1</td>\n",
              "      <td>4</td>\n",
              "    </tr>\n",
              "    <tr>\n",
              "      <th>98</th>\n",
              "      <td>121</td>\n",
              "      <td>143</td>\n",
              "    </tr>\n",
              "  </tbody>\n",
              "</table>\n",
              "</div>\n",
              "      <button class=\"colab-df-convert\" onclick=\"convertToInteractive('df-959a91de-36ff-4a57-a005-869db0a331c6')\"\n",
              "              title=\"Convert this dataframe to an interactive table.\"\n",
              "              style=\"display:none;\">\n",
              "        \n",
              "  <svg xmlns=\"http://www.w3.org/2000/svg\" height=\"24px\"viewBox=\"0 0 24 24\"\n",
              "       width=\"24px\">\n",
              "    <path d=\"M0 0h24v24H0V0z\" fill=\"none\"/>\n",
              "    <path d=\"M18.56 5.44l.94 2.06.94-2.06 2.06-.94-2.06-.94-.94-2.06-.94 2.06-2.06.94zm-11 1L8.5 8.5l.94-2.06 2.06-.94-2.06-.94L8.5 2.5l-.94 2.06-2.06.94zm10 10l.94 2.06.94-2.06 2.06-.94-2.06-.94-.94-2.06-.94 2.06-2.06.94z\"/><path d=\"M17.41 7.96l-1.37-1.37c-.4-.4-.92-.59-1.43-.59-.52 0-1.04.2-1.43.59L10.3 9.45l-7.72 7.72c-.78.78-.78 2.05 0 2.83L4 21.41c.39.39.9.59 1.41.59.51 0 1.02-.2 1.41-.59l7.78-7.78 2.81-2.81c.8-.78.8-2.07 0-2.86zM5.41 20L4 18.59l7.72-7.72 1.47 1.35L5.41 20z\"/>\n",
              "  </svg>\n",
              "      </button>\n",
              "      \n",
              "  <style>\n",
              "    .colab-df-container {\n",
              "      display:flex;\n",
              "      flex-wrap:wrap;\n",
              "      gap: 12px;\n",
              "    }\n",
              "\n",
              "    .colab-df-convert {\n",
              "      background-color: #E8F0FE;\n",
              "      border: none;\n",
              "      border-radius: 50%;\n",
              "      cursor: pointer;\n",
              "      display: none;\n",
              "      fill: #1967D2;\n",
              "      height: 32px;\n",
              "      padding: 0 0 0 0;\n",
              "      width: 32px;\n",
              "    }\n",
              "\n",
              "    .colab-df-convert:hover {\n",
              "      background-color: #E2EBFA;\n",
              "      box-shadow: 0px 1px 2px rgba(60, 64, 67, 0.3), 0px 1px 3px 1px rgba(60, 64, 67, 0.15);\n",
              "      fill: #174EA6;\n",
              "    }\n",
              "\n",
              "    [theme=dark] .colab-df-convert {\n",
              "      background-color: #3B4455;\n",
              "      fill: #D2E3FC;\n",
              "    }\n",
              "\n",
              "    [theme=dark] .colab-df-convert:hover {\n",
              "      background-color: #434B5C;\n",
              "      box-shadow: 0px 1px 3px 1px rgba(0, 0, 0, 0.15);\n",
              "      filter: drop-shadow(0px 1px 2px rgba(0, 0, 0, 0.3));\n",
              "      fill: #FFFFFF;\n",
              "    }\n",
              "  </style>\n",
              "\n",
              "      <script>\n",
              "        const buttonEl =\n",
              "          document.querySelector('#df-959a91de-36ff-4a57-a005-869db0a331c6 button.colab-df-convert');\n",
              "        buttonEl.style.display =\n",
              "          google.colab.kernel.accessAllowed ? 'block' : 'none';\n",
              "\n",
              "        async function convertToInteractive(key) {\n",
              "          const element = document.querySelector('#df-959a91de-36ff-4a57-a005-869db0a331c6');\n",
              "          const dataTable =\n",
              "            await google.colab.kernel.invokeFunction('convertToInteractive',\n",
              "                                                     [key], {});\n",
              "          if (!dataTable) return;\n",
              "\n",
              "          const docLinkHtml = 'Like what you see? Visit the ' +\n",
              "            '<a target=\"_blank\" href=https://colab.research.google.com/notebooks/data_table.ipynb>data table notebook</a>'\n",
              "            + ' to learn more about interactive tables.';\n",
              "          element.innerHTML = '';\n",
              "          dataTable['output_type'] = 'display_data';\n",
              "          await google.colab.output.renderOutput(dataTable, element);\n",
              "          const docLink = document.createElement('div');\n",
              "          docLink.innerHTML = docLinkHtml;\n",
              "          element.appendChild(docLink);\n",
              "        }\n",
              "      </script>\n",
              "    </div>\n",
              "  </div>\n",
              "  "
            ]
          },
          "metadata": {},
          "execution_count": 29
        }
      ]
    },
    {
      "cell_type": "code",
      "source": [
        "#Cross tab row Percentages\n",
        "cross_tab_30dpd_target_percent=cross_tab_30dpd_target.apply(lambda x: x/x.sum(), axis=1)\n",
        "round(cross_tab_30dpd_target_percent,2)"
      ],
      "metadata": {
        "colab": {
          "base_uri": "https://localhost:8080/",
          "height": 0
        },
        "id": "stls3eEDWTfa",
        "outputId": "b00fbed1-3636-420e-bea2-b77671f3a05d"
      },
      "execution_count": 30,
      "outputs": [
        {
          "output_type": "execute_result",
          "data": {
            "text/plain": [
              "SeriousDlqin2yrs                         0     1\n",
              "NumberOfTime30-59DaysPastDueNotWorse            \n",
              "0                                     0.96  0.04\n",
              "1                                     0.85  0.15\n",
              "2                                     0.73  0.27\n",
              "3                                     0.65  0.35\n",
              "4                                     0.57  0.43\n",
              "5                                     0.55  0.45\n",
              "6                                     0.47  0.53\n",
              "7                                     0.48  0.52\n",
              "8                                     0.68  0.32\n",
              "9                                     0.67  0.33\n",
              "10                                    0.25  0.75\n",
              "11                                    0.00  1.00\n",
              "12                                    0.50  0.50\n",
              "13                                    0.00  1.00\n",
              "96                                    0.20  0.80\n",
              "98                                    0.46  0.54"
            ],
            "text/html": [
              "\n",
              "  <div id=\"df-c3b3e085-4bf1-4a7c-8170-eac9598eb7c7\">\n",
              "    <div class=\"colab-df-container\">\n",
              "      <div>\n",
              "<style scoped>\n",
              "    .dataframe tbody tr th:only-of-type {\n",
              "        vertical-align: middle;\n",
              "    }\n",
              "\n",
              "    .dataframe tbody tr th {\n",
              "        vertical-align: top;\n",
              "    }\n",
              "\n",
              "    .dataframe thead th {\n",
              "        text-align: right;\n",
              "    }\n",
              "</style>\n",
              "<table border=\"1\" class=\"dataframe\">\n",
              "  <thead>\n",
              "    <tr style=\"text-align: right;\">\n",
              "      <th>SeriousDlqin2yrs</th>\n",
              "      <th>0</th>\n",
              "      <th>1</th>\n",
              "    </tr>\n",
              "    <tr>\n",
              "      <th>NumberOfTime30-59DaysPastDueNotWorse</th>\n",
              "      <th></th>\n",
              "      <th></th>\n",
              "    </tr>\n",
              "  </thead>\n",
              "  <tbody>\n",
              "    <tr>\n",
              "      <th>0</th>\n",
              "      <td>0.96</td>\n",
              "      <td>0.04</td>\n",
              "    </tr>\n",
              "    <tr>\n",
              "      <th>1</th>\n",
              "      <td>0.85</td>\n",
              "      <td>0.15</td>\n",
              "    </tr>\n",
              "    <tr>\n",
              "      <th>2</th>\n",
              "      <td>0.73</td>\n",
              "      <td>0.27</td>\n",
              "    </tr>\n",
              "    <tr>\n",
              "      <th>3</th>\n",
              "      <td>0.65</td>\n",
              "      <td>0.35</td>\n",
              "    </tr>\n",
              "    <tr>\n",
              "      <th>4</th>\n",
              "      <td>0.57</td>\n",
              "      <td>0.43</td>\n",
              "    </tr>\n",
              "    <tr>\n",
              "      <th>5</th>\n",
              "      <td>0.55</td>\n",
              "      <td>0.45</td>\n",
              "    </tr>\n",
              "    <tr>\n",
              "      <th>6</th>\n",
              "      <td>0.47</td>\n",
              "      <td>0.53</td>\n",
              "    </tr>\n",
              "    <tr>\n",
              "      <th>7</th>\n",
              "      <td>0.48</td>\n",
              "      <td>0.52</td>\n",
              "    </tr>\n",
              "    <tr>\n",
              "      <th>8</th>\n",
              "      <td>0.68</td>\n",
              "      <td>0.32</td>\n",
              "    </tr>\n",
              "    <tr>\n",
              "      <th>9</th>\n",
              "      <td>0.67</td>\n",
              "      <td>0.33</td>\n",
              "    </tr>\n",
              "    <tr>\n",
              "      <th>10</th>\n",
              "      <td>0.25</td>\n",
              "      <td>0.75</td>\n",
              "    </tr>\n",
              "    <tr>\n",
              "      <th>11</th>\n",
              "      <td>0.00</td>\n",
              "      <td>1.00</td>\n",
              "    </tr>\n",
              "    <tr>\n",
              "      <th>12</th>\n",
              "      <td>0.50</td>\n",
              "      <td>0.50</td>\n",
              "    </tr>\n",
              "    <tr>\n",
              "      <th>13</th>\n",
              "      <td>0.00</td>\n",
              "      <td>1.00</td>\n",
              "    </tr>\n",
              "    <tr>\n",
              "      <th>96</th>\n",
              "      <td>0.20</td>\n",
              "      <td>0.80</td>\n",
              "    </tr>\n",
              "    <tr>\n",
              "      <th>98</th>\n",
              "      <td>0.46</td>\n",
              "      <td>0.54</td>\n",
              "    </tr>\n",
              "  </tbody>\n",
              "</table>\n",
              "</div>\n",
              "      <button class=\"colab-df-convert\" onclick=\"convertToInteractive('df-c3b3e085-4bf1-4a7c-8170-eac9598eb7c7')\"\n",
              "              title=\"Convert this dataframe to an interactive table.\"\n",
              "              style=\"display:none;\">\n",
              "        \n",
              "  <svg xmlns=\"http://www.w3.org/2000/svg\" height=\"24px\"viewBox=\"0 0 24 24\"\n",
              "       width=\"24px\">\n",
              "    <path d=\"M0 0h24v24H0V0z\" fill=\"none\"/>\n",
              "    <path d=\"M18.56 5.44l.94 2.06.94-2.06 2.06-.94-2.06-.94-.94-2.06-.94 2.06-2.06.94zm-11 1L8.5 8.5l.94-2.06 2.06-.94-2.06-.94L8.5 2.5l-.94 2.06-2.06.94zm10 10l.94 2.06.94-2.06 2.06-.94-2.06-.94-.94-2.06-.94 2.06-2.06.94z\"/><path d=\"M17.41 7.96l-1.37-1.37c-.4-.4-.92-.59-1.43-.59-.52 0-1.04.2-1.43.59L10.3 9.45l-7.72 7.72c-.78.78-.78 2.05 0 2.83L4 21.41c.39.39.9.59 1.41.59.51 0 1.02-.2 1.41-.59l7.78-7.78 2.81-2.81c.8-.78.8-2.07 0-2.86zM5.41 20L4 18.59l7.72-7.72 1.47 1.35L5.41 20z\"/>\n",
              "  </svg>\n",
              "      </button>\n",
              "      \n",
              "  <style>\n",
              "    .colab-df-container {\n",
              "      display:flex;\n",
              "      flex-wrap:wrap;\n",
              "      gap: 12px;\n",
              "    }\n",
              "\n",
              "    .colab-df-convert {\n",
              "      background-color: #E8F0FE;\n",
              "      border: none;\n",
              "      border-radius: 50%;\n",
              "      cursor: pointer;\n",
              "      display: none;\n",
              "      fill: #1967D2;\n",
              "      height: 32px;\n",
              "      padding: 0 0 0 0;\n",
              "      width: 32px;\n",
              "    }\n",
              "\n",
              "    .colab-df-convert:hover {\n",
              "      background-color: #E2EBFA;\n",
              "      box-shadow: 0px 1px 2px rgba(60, 64, 67, 0.3), 0px 1px 3px 1px rgba(60, 64, 67, 0.15);\n",
              "      fill: #174EA6;\n",
              "    }\n",
              "\n",
              "    [theme=dark] .colab-df-convert {\n",
              "      background-color: #3B4455;\n",
              "      fill: #D2E3FC;\n",
              "    }\n",
              "\n",
              "    [theme=dark] .colab-df-convert:hover {\n",
              "      background-color: #434B5C;\n",
              "      box-shadow: 0px 1px 3px 1px rgba(0, 0, 0, 0.15);\n",
              "      filter: drop-shadow(0px 1px 2px rgba(0, 0, 0, 0.3));\n",
              "      fill: #FFFFFF;\n",
              "    }\n",
              "  </style>\n",
              "\n",
              "      <script>\n",
              "        const buttonEl =\n",
              "          document.querySelector('#df-c3b3e085-4bf1-4a7c-8170-eac9598eb7c7 button.colab-df-convert');\n",
              "        buttonEl.style.display =\n",
              "          google.colab.kernel.accessAllowed ? 'block' : 'none';\n",
              "\n",
              "        async function convertToInteractive(key) {\n",
              "          const element = document.querySelector('#df-c3b3e085-4bf1-4a7c-8170-eac9598eb7c7');\n",
              "          const dataTable =\n",
              "            await google.colab.kernel.invokeFunction('convertToInteractive',\n",
              "                                                     [key], {});\n",
              "          if (!dataTable) return;\n",
              "\n",
              "          const docLinkHtml = 'Like what you see? Visit the ' +\n",
              "            '<a target=\"_blank\" href=https://colab.research.google.com/notebooks/data_table.ipynb>data table notebook</a>'\n",
              "            + ' to learn more about interactive tables.';\n",
              "          element.innerHTML = '';\n",
              "          dataTable['output_type'] = 'display_data';\n",
              "          await google.colab.output.renderOutput(dataTable, element);\n",
              "          const docLink = document.createElement('div');\n",
              "          docLink.innerHTML = docLinkHtml;\n",
              "          element.appendChild(docLink);\n",
              "        }\n",
              "      </script>\n",
              "    </div>\n",
              "  </div>\n",
              "  "
            ]
          },
          "metadata": {},
          "execution_count": 30
        }
      ]
    },
    {
      "cell_type": "code",
      "source": [
        "#Percentage of 0 and 1 are of 98 is near to percentages of 6. \n",
        "#Replacing error values with 6\n",
        "\n",
        "df['num_30_59_dpd_new']=df['NumberOfTime30-59DaysPastDueNotWorse']\n",
        "df['num_30_59_dpd_new'][df['num_30_59_dpd_new']>13]=6 \n",
        "df['num_30_59_dpd_new']\n",
        "\n",
        "df['num_30_59_dpd_new'].value_counts()"
      ],
      "metadata": {
        "colab": {
          "base_uri": "https://localhost:8080/"
        },
        "id": "MArMhNfrW2nn",
        "outputId": "f46ca39c-e2fb-4e1d-fcc4-f2cd7d437c8b"
      },
      "execution_count": 31,
      "outputs": [
        {
          "output_type": "stream",
          "name": "stderr",
          "text": [
            "/usr/local/lib/python3.7/dist-packages/ipykernel_launcher.py:5: SettingWithCopyWarning: \n",
            "A value is trying to be set on a copy of a slice from a DataFrame\n",
            "\n",
            "See the caveats in the documentation: https://pandas.pydata.org/pandas-docs/stable/user_guide/indexing.html#returning-a-view-versus-a-copy\n",
            "  \"\"\"\n"
          ]
        },
        {
          "output_type": "execute_result",
          "data": {
            "text/plain": [
              "0     126018\n",
              "1      16033\n",
              "2       4598\n",
              "3       1754\n",
              "4        747\n",
              "6        409\n",
              "5        342\n",
              "7         54\n",
              "8         25\n",
              "9         12\n",
              "10         4\n",
              "12         2\n",
              "13         1\n",
              "11         1\n",
              "Name: num_30_59_dpd_new, dtype: int64"
            ]
          },
          "metadata": {},
          "execution_count": 31
        }
      ]
    },
    {
      "cell_type": "markdown",
      "source": [
        "# ['NumberOfTimes90DaysLate']"
      ],
      "metadata": {
        "id": "tInL-nXRX4VG"
      }
    },
    {
      "cell_type": "code",
      "source": [
        "df['NumberOfTimes90DaysLate'].value_counts()\n",
        "# In a period of 2 years , count can not be more than 24. Hecne, here we are using cross tab of variable vs target. "
      ],
      "metadata": {
        "colab": {
          "base_uri": "https://localhost:8080/"
        },
        "id": "Z6GjE2naYA79",
        "outputId": "0786e169-2364-41ff-c1c8-3476cf587239"
      },
      "execution_count": 32,
      "outputs": [
        {
          "output_type": "execute_result",
          "data": {
            "text/plain": [
              "0     141662\n",
              "1       5243\n",
              "2       1555\n",
              "3        667\n",
              "4        291\n",
              "98       264\n",
              "5        131\n",
              "6         80\n",
              "7         38\n",
              "8         21\n",
              "9         19\n",
              "10         8\n",
              "96         5\n",
              "11         5\n",
              "13         4\n",
              "15         2\n",
              "14         2\n",
              "12         2\n",
              "17         1\n",
              "Name: NumberOfTimes90DaysLate, dtype: int64"
            ]
          },
          "metadata": {},
          "execution_count": 32
        }
      ]
    },
    {
      "cell_type": "code",
      "source": [
        "cross_tab_90dpd_target=pd.crosstab(df['NumberOfTimes90DaysLate'],df['SeriousDlqin2yrs'])\n",
        "cross_tab_90dpd_target"
      ],
      "metadata": {
        "colab": {
          "base_uri": "https://localhost:8080/",
          "height": 0
        },
        "id": "x9bEyj_dYcgs",
        "outputId": "028dd0df-05fd-4442-a1de-c23cd5162fd7"
      },
      "execution_count": 33,
      "outputs": [
        {
          "output_type": "execute_result",
          "data": {
            "text/plain": [
              "SeriousDlqin2yrs              0     1\n",
              "NumberOfTimes90DaysLate              \n",
              "0                        135108  6554\n",
              "1                          3478  1765\n",
              "2                           779   776\n",
              "3                           282   385\n",
              "4                            96   195\n",
              "5                            48    83\n",
              "6                            32    48\n",
              "7                             7    31\n",
              "8                             6    15\n",
              "9                             5    14\n",
              "10                            3     5\n",
              "11                            2     3\n",
              "12                            1     1\n",
              "13                            2     2\n",
              "14                            1     1\n",
              "15                            2     0\n",
              "17                            0     1\n",
              "96                            1     4\n",
              "98                          121   143"
            ],
            "text/html": [
              "\n",
              "  <div id=\"df-bb376afb-4923-4d3b-b025-60d1873b6a3d\">\n",
              "    <div class=\"colab-df-container\">\n",
              "      <div>\n",
              "<style scoped>\n",
              "    .dataframe tbody tr th:only-of-type {\n",
              "        vertical-align: middle;\n",
              "    }\n",
              "\n",
              "    .dataframe tbody tr th {\n",
              "        vertical-align: top;\n",
              "    }\n",
              "\n",
              "    .dataframe thead th {\n",
              "        text-align: right;\n",
              "    }\n",
              "</style>\n",
              "<table border=\"1\" class=\"dataframe\">\n",
              "  <thead>\n",
              "    <tr style=\"text-align: right;\">\n",
              "      <th>SeriousDlqin2yrs</th>\n",
              "      <th>0</th>\n",
              "      <th>1</th>\n",
              "    </tr>\n",
              "    <tr>\n",
              "      <th>NumberOfTimes90DaysLate</th>\n",
              "      <th></th>\n",
              "      <th></th>\n",
              "    </tr>\n",
              "  </thead>\n",
              "  <tbody>\n",
              "    <tr>\n",
              "      <th>0</th>\n",
              "      <td>135108</td>\n",
              "      <td>6554</td>\n",
              "    </tr>\n",
              "    <tr>\n",
              "      <th>1</th>\n",
              "      <td>3478</td>\n",
              "      <td>1765</td>\n",
              "    </tr>\n",
              "    <tr>\n",
              "      <th>2</th>\n",
              "      <td>779</td>\n",
              "      <td>776</td>\n",
              "    </tr>\n",
              "    <tr>\n",
              "      <th>3</th>\n",
              "      <td>282</td>\n",
              "      <td>385</td>\n",
              "    </tr>\n",
              "    <tr>\n",
              "      <th>4</th>\n",
              "      <td>96</td>\n",
              "      <td>195</td>\n",
              "    </tr>\n",
              "    <tr>\n",
              "      <th>5</th>\n",
              "      <td>48</td>\n",
              "      <td>83</td>\n",
              "    </tr>\n",
              "    <tr>\n",
              "      <th>6</th>\n",
              "      <td>32</td>\n",
              "      <td>48</td>\n",
              "    </tr>\n",
              "    <tr>\n",
              "      <th>7</th>\n",
              "      <td>7</td>\n",
              "      <td>31</td>\n",
              "    </tr>\n",
              "    <tr>\n",
              "      <th>8</th>\n",
              "      <td>6</td>\n",
              "      <td>15</td>\n",
              "    </tr>\n",
              "    <tr>\n",
              "      <th>9</th>\n",
              "      <td>5</td>\n",
              "      <td>14</td>\n",
              "    </tr>\n",
              "    <tr>\n",
              "      <th>10</th>\n",
              "      <td>3</td>\n",
              "      <td>5</td>\n",
              "    </tr>\n",
              "    <tr>\n",
              "      <th>11</th>\n",
              "      <td>2</td>\n",
              "      <td>3</td>\n",
              "    </tr>\n",
              "    <tr>\n",
              "      <th>12</th>\n",
              "      <td>1</td>\n",
              "      <td>1</td>\n",
              "    </tr>\n",
              "    <tr>\n",
              "      <th>13</th>\n",
              "      <td>2</td>\n",
              "      <td>2</td>\n",
              "    </tr>\n",
              "    <tr>\n",
              "      <th>14</th>\n",
              "      <td>1</td>\n",
              "      <td>1</td>\n",
              "    </tr>\n",
              "    <tr>\n",
              "      <th>15</th>\n",
              "      <td>2</td>\n",
              "      <td>0</td>\n",
              "    </tr>\n",
              "    <tr>\n",
              "      <th>17</th>\n",
              "      <td>0</td>\n",
              "      <td>1</td>\n",
              "    </tr>\n",
              "    <tr>\n",
              "      <th>96</th>\n",
              "      <td>1</td>\n",
              "      <td>4</td>\n",
              "    </tr>\n",
              "    <tr>\n",
              "      <th>98</th>\n",
              "      <td>121</td>\n",
              "      <td>143</td>\n",
              "    </tr>\n",
              "  </tbody>\n",
              "</table>\n",
              "</div>\n",
              "      <button class=\"colab-df-convert\" onclick=\"convertToInteractive('df-bb376afb-4923-4d3b-b025-60d1873b6a3d')\"\n",
              "              title=\"Convert this dataframe to an interactive table.\"\n",
              "              style=\"display:none;\">\n",
              "        \n",
              "  <svg xmlns=\"http://www.w3.org/2000/svg\" height=\"24px\"viewBox=\"0 0 24 24\"\n",
              "       width=\"24px\">\n",
              "    <path d=\"M0 0h24v24H0V0z\" fill=\"none\"/>\n",
              "    <path d=\"M18.56 5.44l.94 2.06.94-2.06 2.06-.94-2.06-.94-.94-2.06-.94 2.06-2.06.94zm-11 1L8.5 8.5l.94-2.06 2.06-.94-2.06-.94L8.5 2.5l-.94 2.06-2.06.94zm10 10l.94 2.06.94-2.06 2.06-.94-2.06-.94-.94-2.06-.94 2.06-2.06.94z\"/><path d=\"M17.41 7.96l-1.37-1.37c-.4-.4-.92-.59-1.43-.59-.52 0-1.04.2-1.43.59L10.3 9.45l-7.72 7.72c-.78.78-.78 2.05 0 2.83L4 21.41c.39.39.9.59 1.41.59.51 0 1.02-.2 1.41-.59l7.78-7.78 2.81-2.81c.8-.78.8-2.07 0-2.86zM5.41 20L4 18.59l7.72-7.72 1.47 1.35L5.41 20z\"/>\n",
              "  </svg>\n",
              "      </button>\n",
              "      \n",
              "  <style>\n",
              "    .colab-df-container {\n",
              "      display:flex;\n",
              "      flex-wrap:wrap;\n",
              "      gap: 12px;\n",
              "    }\n",
              "\n",
              "    .colab-df-convert {\n",
              "      background-color: #E8F0FE;\n",
              "      border: none;\n",
              "      border-radius: 50%;\n",
              "      cursor: pointer;\n",
              "      display: none;\n",
              "      fill: #1967D2;\n",
              "      height: 32px;\n",
              "      padding: 0 0 0 0;\n",
              "      width: 32px;\n",
              "    }\n",
              "\n",
              "    .colab-df-convert:hover {\n",
              "      background-color: #E2EBFA;\n",
              "      box-shadow: 0px 1px 2px rgba(60, 64, 67, 0.3), 0px 1px 3px 1px rgba(60, 64, 67, 0.15);\n",
              "      fill: #174EA6;\n",
              "    }\n",
              "\n",
              "    [theme=dark] .colab-df-convert {\n",
              "      background-color: #3B4455;\n",
              "      fill: #D2E3FC;\n",
              "    }\n",
              "\n",
              "    [theme=dark] .colab-df-convert:hover {\n",
              "      background-color: #434B5C;\n",
              "      box-shadow: 0px 1px 3px 1px rgba(0, 0, 0, 0.15);\n",
              "      filter: drop-shadow(0px 1px 2px rgba(0, 0, 0, 0.3));\n",
              "      fill: #FFFFFF;\n",
              "    }\n",
              "  </style>\n",
              "\n",
              "      <script>\n",
              "        const buttonEl =\n",
              "          document.querySelector('#df-bb376afb-4923-4d3b-b025-60d1873b6a3d button.colab-df-convert');\n",
              "        buttonEl.style.display =\n",
              "          google.colab.kernel.accessAllowed ? 'block' : 'none';\n",
              "\n",
              "        async function convertToInteractive(key) {\n",
              "          const element = document.querySelector('#df-bb376afb-4923-4d3b-b025-60d1873b6a3d');\n",
              "          const dataTable =\n",
              "            await google.colab.kernel.invokeFunction('convertToInteractive',\n",
              "                                                     [key], {});\n",
              "          if (!dataTable) return;\n",
              "\n",
              "          const docLinkHtml = 'Like what you see? Visit the ' +\n",
              "            '<a target=\"_blank\" href=https://colab.research.google.com/notebooks/data_table.ipynb>data table notebook</a>'\n",
              "            + ' to learn more about interactive tables.';\n",
              "          element.innerHTML = '';\n",
              "          dataTable['output_type'] = 'display_data';\n",
              "          await google.colab.output.renderOutput(dataTable, element);\n",
              "          const docLink = document.createElement('div');\n",
              "          docLink.innerHTML = docLinkHtml;\n",
              "          element.appendChild(docLink);\n",
              "        }\n",
              "      </script>\n",
              "    </div>\n",
              "  </div>\n",
              "  "
            ]
          },
          "metadata": {},
          "execution_count": 33
        }
      ]
    },
    {
      "cell_type": "code",
      "source": [
        "#Cross tab row Percentages\n",
        "cross_tab_90dpd_target_percent=cross_tab_90dpd_target.apply(lambda x: x/x.sum(), axis=1)\n",
        "round(cross_tab_90dpd_target_percent,2)"
      ],
      "metadata": {
        "colab": {
          "base_uri": "https://localhost:8080/",
          "height": 0
        },
        "id": "hS9rEeiUYcxM",
        "outputId": "4247f92a-a2aa-4ec7-bbd7-a2931bb16720"
      },
      "execution_count": 34,
      "outputs": [
        {
          "output_type": "execute_result",
          "data": {
            "text/plain": [
              "SeriousDlqin2yrs            0     1\n",
              "NumberOfTimes90DaysLate            \n",
              "0                        0.95  0.05\n",
              "1                        0.66  0.34\n",
              "2                        0.50  0.50\n",
              "3                        0.42  0.58\n",
              "4                        0.33  0.67\n",
              "5                        0.37  0.63\n",
              "6                        0.40  0.60\n",
              "7                        0.18  0.82\n",
              "8                        0.29  0.71\n",
              "9                        0.26  0.74\n",
              "10                       0.38  0.62\n",
              "11                       0.40  0.60\n",
              "12                       0.50  0.50\n",
              "13                       0.50  0.50\n",
              "14                       0.50  0.50\n",
              "15                       1.00  0.00\n",
              "17                       0.00  1.00\n",
              "96                       0.20  0.80\n",
              "98                       0.46  0.54"
            ],
            "text/html": [
              "\n",
              "  <div id=\"df-d1d089dd-7716-4714-8a70-74557e6b97b0\">\n",
              "    <div class=\"colab-df-container\">\n",
              "      <div>\n",
              "<style scoped>\n",
              "    .dataframe tbody tr th:only-of-type {\n",
              "        vertical-align: middle;\n",
              "    }\n",
              "\n",
              "    .dataframe tbody tr th {\n",
              "        vertical-align: top;\n",
              "    }\n",
              "\n",
              "    .dataframe thead th {\n",
              "        text-align: right;\n",
              "    }\n",
              "</style>\n",
              "<table border=\"1\" class=\"dataframe\">\n",
              "  <thead>\n",
              "    <tr style=\"text-align: right;\">\n",
              "      <th>SeriousDlqin2yrs</th>\n",
              "      <th>0</th>\n",
              "      <th>1</th>\n",
              "    </tr>\n",
              "    <tr>\n",
              "      <th>NumberOfTimes90DaysLate</th>\n",
              "      <th></th>\n",
              "      <th></th>\n",
              "    </tr>\n",
              "  </thead>\n",
              "  <tbody>\n",
              "    <tr>\n",
              "      <th>0</th>\n",
              "      <td>0.95</td>\n",
              "      <td>0.05</td>\n",
              "    </tr>\n",
              "    <tr>\n",
              "      <th>1</th>\n",
              "      <td>0.66</td>\n",
              "      <td>0.34</td>\n",
              "    </tr>\n",
              "    <tr>\n",
              "      <th>2</th>\n",
              "      <td>0.50</td>\n",
              "      <td>0.50</td>\n",
              "    </tr>\n",
              "    <tr>\n",
              "      <th>3</th>\n",
              "      <td>0.42</td>\n",
              "      <td>0.58</td>\n",
              "    </tr>\n",
              "    <tr>\n",
              "      <th>4</th>\n",
              "      <td>0.33</td>\n",
              "      <td>0.67</td>\n",
              "    </tr>\n",
              "    <tr>\n",
              "      <th>5</th>\n",
              "      <td>0.37</td>\n",
              "      <td>0.63</td>\n",
              "    </tr>\n",
              "    <tr>\n",
              "      <th>6</th>\n",
              "      <td>0.40</td>\n",
              "      <td>0.60</td>\n",
              "    </tr>\n",
              "    <tr>\n",
              "      <th>7</th>\n",
              "      <td>0.18</td>\n",
              "      <td>0.82</td>\n",
              "    </tr>\n",
              "    <tr>\n",
              "      <th>8</th>\n",
              "      <td>0.29</td>\n",
              "      <td>0.71</td>\n",
              "    </tr>\n",
              "    <tr>\n",
              "      <th>9</th>\n",
              "      <td>0.26</td>\n",
              "      <td>0.74</td>\n",
              "    </tr>\n",
              "    <tr>\n",
              "      <th>10</th>\n",
              "      <td>0.38</td>\n",
              "      <td>0.62</td>\n",
              "    </tr>\n",
              "    <tr>\n",
              "      <th>11</th>\n",
              "      <td>0.40</td>\n",
              "      <td>0.60</td>\n",
              "    </tr>\n",
              "    <tr>\n",
              "      <th>12</th>\n",
              "      <td>0.50</td>\n",
              "      <td>0.50</td>\n",
              "    </tr>\n",
              "    <tr>\n",
              "      <th>13</th>\n",
              "      <td>0.50</td>\n",
              "      <td>0.50</td>\n",
              "    </tr>\n",
              "    <tr>\n",
              "      <th>14</th>\n",
              "      <td>0.50</td>\n",
              "      <td>0.50</td>\n",
              "    </tr>\n",
              "    <tr>\n",
              "      <th>15</th>\n",
              "      <td>1.00</td>\n",
              "      <td>0.00</td>\n",
              "    </tr>\n",
              "    <tr>\n",
              "      <th>17</th>\n",
              "      <td>0.00</td>\n",
              "      <td>1.00</td>\n",
              "    </tr>\n",
              "    <tr>\n",
              "      <th>96</th>\n",
              "      <td>0.20</td>\n",
              "      <td>0.80</td>\n",
              "    </tr>\n",
              "    <tr>\n",
              "      <th>98</th>\n",
              "      <td>0.46</td>\n",
              "      <td>0.54</td>\n",
              "    </tr>\n",
              "  </tbody>\n",
              "</table>\n",
              "</div>\n",
              "      <button class=\"colab-df-convert\" onclick=\"convertToInteractive('df-d1d089dd-7716-4714-8a70-74557e6b97b0')\"\n",
              "              title=\"Convert this dataframe to an interactive table.\"\n",
              "              style=\"display:none;\">\n",
              "        \n",
              "  <svg xmlns=\"http://www.w3.org/2000/svg\" height=\"24px\"viewBox=\"0 0 24 24\"\n",
              "       width=\"24px\">\n",
              "    <path d=\"M0 0h24v24H0V0z\" fill=\"none\"/>\n",
              "    <path d=\"M18.56 5.44l.94 2.06.94-2.06 2.06-.94-2.06-.94-.94-2.06-.94 2.06-2.06.94zm-11 1L8.5 8.5l.94-2.06 2.06-.94-2.06-.94L8.5 2.5l-.94 2.06-2.06.94zm10 10l.94 2.06.94-2.06 2.06-.94-2.06-.94-.94-2.06-.94 2.06-2.06.94z\"/><path d=\"M17.41 7.96l-1.37-1.37c-.4-.4-.92-.59-1.43-.59-.52 0-1.04.2-1.43.59L10.3 9.45l-7.72 7.72c-.78.78-.78 2.05 0 2.83L4 21.41c.39.39.9.59 1.41.59.51 0 1.02-.2 1.41-.59l7.78-7.78 2.81-2.81c.8-.78.8-2.07 0-2.86zM5.41 20L4 18.59l7.72-7.72 1.47 1.35L5.41 20z\"/>\n",
              "  </svg>\n",
              "      </button>\n",
              "      \n",
              "  <style>\n",
              "    .colab-df-container {\n",
              "      display:flex;\n",
              "      flex-wrap:wrap;\n",
              "      gap: 12px;\n",
              "    }\n",
              "\n",
              "    .colab-df-convert {\n",
              "      background-color: #E8F0FE;\n",
              "      border: none;\n",
              "      border-radius: 50%;\n",
              "      cursor: pointer;\n",
              "      display: none;\n",
              "      fill: #1967D2;\n",
              "      height: 32px;\n",
              "      padding: 0 0 0 0;\n",
              "      width: 32px;\n",
              "    }\n",
              "\n",
              "    .colab-df-convert:hover {\n",
              "      background-color: #E2EBFA;\n",
              "      box-shadow: 0px 1px 2px rgba(60, 64, 67, 0.3), 0px 1px 3px 1px rgba(60, 64, 67, 0.15);\n",
              "      fill: #174EA6;\n",
              "    }\n",
              "\n",
              "    [theme=dark] .colab-df-convert {\n",
              "      background-color: #3B4455;\n",
              "      fill: #D2E3FC;\n",
              "    }\n",
              "\n",
              "    [theme=dark] .colab-df-convert:hover {\n",
              "      background-color: #434B5C;\n",
              "      box-shadow: 0px 1px 3px 1px rgba(0, 0, 0, 0.15);\n",
              "      filter: drop-shadow(0px 1px 2px rgba(0, 0, 0, 0.3));\n",
              "      fill: #FFFFFF;\n",
              "    }\n",
              "  </style>\n",
              "\n",
              "      <script>\n",
              "        const buttonEl =\n",
              "          document.querySelector('#df-d1d089dd-7716-4714-8a70-74557e6b97b0 button.colab-df-convert');\n",
              "        buttonEl.style.display =\n",
              "          google.colab.kernel.accessAllowed ? 'block' : 'none';\n",
              "\n",
              "        async function convertToInteractive(key) {\n",
              "          const element = document.querySelector('#df-d1d089dd-7716-4714-8a70-74557e6b97b0');\n",
              "          const dataTable =\n",
              "            await google.colab.kernel.invokeFunction('convertToInteractive',\n",
              "                                                     [key], {});\n",
              "          if (!dataTable) return;\n",
              "\n",
              "          const docLinkHtml = 'Like what you see? Visit the ' +\n",
              "            '<a target=\"_blank\" href=https://colab.research.google.com/notebooks/data_table.ipynb>data table notebook</a>'\n",
              "            + ' to learn more about interactive tables.';\n",
              "          element.innerHTML = '';\n",
              "          dataTable['output_type'] = 'display_data';\n",
              "          await google.colab.output.renderOutput(dataTable, element);\n",
              "          const docLink = document.createElement('div');\n",
              "          docLink.innerHTML = docLinkHtml;\n",
              "          element.appendChild(docLink);\n",
              "        }\n",
              "      </script>\n",
              "    </div>\n",
              "  </div>\n",
              "  "
            ]
          },
          "metadata": {},
          "execution_count": 34
        }
      ]
    },
    {
      "cell_type": "code",
      "source": [
        "#Percentage of 0 and 1 are of 98 is near to percentages of 12. \n",
        "#Replacing error values with 12\n",
        "\n",
        "df['num_90_late_new']=df['NumberOfTimes90DaysLate']\n",
        "df['num_90_late_new'][df['num_90_late_new']>17]=12\n",
        "df['num_90_late_new']\n",
        "\n",
        "df['num_90_late_new'].value_counts()"
      ],
      "metadata": {
        "colab": {
          "base_uri": "https://localhost:8080/"
        },
        "id": "7AaqwZ49ZDyS",
        "outputId": "072fceea-377a-4173-c3f7-7ba617a8670b"
      },
      "execution_count": 35,
      "outputs": [
        {
          "output_type": "stream",
          "name": "stderr",
          "text": [
            "/usr/local/lib/python3.7/dist-packages/ipykernel_launcher.py:5: SettingWithCopyWarning: \n",
            "A value is trying to be set on a copy of a slice from a DataFrame\n",
            "\n",
            "See the caveats in the documentation: https://pandas.pydata.org/pandas-docs/stable/user_guide/indexing.html#returning-a-view-versus-a-copy\n",
            "  \"\"\"\n"
          ]
        },
        {
          "output_type": "execute_result",
          "data": {
            "text/plain": [
              "0     141662\n",
              "1       5243\n",
              "2       1555\n",
              "3        667\n",
              "4        291\n",
              "12       271\n",
              "5        131\n",
              "6         80\n",
              "7         38\n",
              "8         21\n",
              "9         19\n",
              "10         8\n",
              "11         5\n",
              "13         4\n",
              "15         2\n",
              "14         2\n",
              "17         1\n",
              "Name: num_90_late_new, dtype: int64"
            ]
          },
          "metadata": {},
          "execution_count": 35
        }
      ]
    },
    {
      "cell_type": "markdown",
      "source": [
        "# ['NumberOfTime60-89DaysPastDueNotWorse']"
      ],
      "metadata": {
        "id": "kuqAzU62abUC"
      }
    },
    {
      "cell_type": "code",
      "source": [
        "df['NumberOfTime60-89DaysPastDueNotWorse'].value_counts()\n",
        "# In a period of 2 years , count can not be more than 24. Hecne, here we are using cross tab of variable vs target."
      ],
      "metadata": {
        "colab": {
          "base_uri": "https://localhost:8080/"
        },
        "id": "qo8_JaaqaXYL",
        "outputId": "47faec95-8d89-42b2-9e96-ce5fab6b7211"
      },
      "execution_count": 36,
      "outputs": [
        {
          "output_type": "execute_result",
          "data": {
            "text/plain": [
              "0     142396\n",
              "1       5731\n",
              "2       1118\n",
              "3        318\n",
              "98       264\n",
              "4        105\n",
              "5         34\n",
              "6         16\n",
              "7          9\n",
              "96         5\n",
              "8          2\n",
              "11         1\n",
              "9          1\n",
              "Name: NumberOfTime60-89DaysPastDueNotWorse, dtype: int64"
            ]
          },
          "metadata": {},
          "execution_count": 36
        }
      ]
    },
    {
      "cell_type": "code",
      "source": [
        "cross_tab_60_89_dpd_target=pd.crosstab(df['NumberOfTime60-89DaysPastDueNotWorse'],df['SeriousDlqin2yrs'])\n",
        "cross_tab_60_89_dpd_target"
      ],
      "metadata": {
        "colab": {
          "base_uri": "https://localhost:8080/",
          "height": 0
        },
        "id": "9lrnq0UAagXF",
        "outputId": "b431a40c-a302-4324-d63b-da78be3a6fa6"
      },
      "execution_count": 37,
      "outputs": [
        {
          "output_type": "execute_result",
          "data": {
            "text/plain": [
              "SeriousDlqin2yrs                           0     1\n",
              "NumberOfTime60-89DaysPastDueNotWorse              \n",
              "0                                     135140  7256\n",
              "1                                       3954  1777\n",
              "2                                        557   561\n",
              "3                                        138   180\n",
              "4                                         40    65\n",
              "5                                         13    21\n",
              "6                                          4    12\n",
              "7                                          4     5\n",
              "8                                          1     1\n",
              "9                                          1     0\n",
              "11                                         0     1\n",
              "96                                         1     4\n",
              "98                                       121   143"
            ],
            "text/html": [
              "\n",
              "  <div id=\"df-1816c757-8696-4416-a7d2-b7a41b34e68c\">\n",
              "    <div class=\"colab-df-container\">\n",
              "      <div>\n",
              "<style scoped>\n",
              "    .dataframe tbody tr th:only-of-type {\n",
              "        vertical-align: middle;\n",
              "    }\n",
              "\n",
              "    .dataframe tbody tr th {\n",
              "        vertical-align: top;\n",
              "    }\n",
              "\n",
              "    .dataframe thead th {\n",
              "        text-align: right;\n",
              "    }\n",
              "</style>\n",
              "<table border=\"1\" class=\"dataframe\">\n",
              "  <thead>\n",
              "    <tr style=\"text-align: right;\">\n",
              "      <th>SeriousDlqin2yrs</th>\n",
              "      <th>0</th>\n",
              "      <th>1</th>\n",
              "    </tr>\n",
              "    <tr>\n",
              "      <th>NumberOfTime60-89DaysPastDueNotWorse</th>\n",
              "      <th></th>\n",
              "      <th></th>\n",
              "    </tr>\n",
              "  </thead>\n",
              "  <tbody>\n",
              "    <tr>\n",
              "      <th>0</th>\n",
              "      <td>135140</td>\n",
              "      <td>7256</td>\n",
              "    </tr>\n",
              "    <tr>\n",
              "      <th>1</th>\n",
              "      <td>3954</td>\n",
              "      <td>1777</td>\n",
              "    </tr>\n",
              "    <tr>\n",
              "      <th>2</th>\n",
              "      <td>557</td>\n",
              "      <td>561</td>\n",
              "    </tr>\n",
              "    <tr>\n",
              "      <th>3</th>\n",
              "      <td>138</td>\n",
              "      <td>180</td>\n",
              "    </tr>\n",
              "    <tr>\n",
              "      <th>4</th>\n",
              "      <td>40</td>\n",
              "      <td>65</td>\n",
              "    </tr>\n",
              "    <tr>\n",
              "      <th>5</th>\n",
              "      <td>13</td>\n",
              "      <td>21</td>\n",
              "    </tr>\n",
              "    <tr>\n",
              "      <th>6</th>\n",
              "      <td>4</td>\n",
              "      <td>12</td>\n",
              "    </tr>\n",
              "    <tr>\n",
              "      <th>7</th>\n",
              "      <td>4</td>\n",
              "      <td>5</td>\n",
              "    </tr>\n",
              "    <tr>\n",
              "      <th>8</th>\n",
              "      <td>1</td>\n",
              "      <td>1</td>\n",
              "    </tr>\n",
              "    <tr>\n",
              "      <th>9</th>\n",
              "      <td>1</td>\n",
              "      <td>0</td>\n",
              "    </tr>\n",
              "    <tr>\n",
              "      <th>11</th>\n",
              "      <td>0</td>\n",
              "      <td>1</td>\n",
              "    </tr>\n",
              "    <tr>\n",
              "      <th>96</th>\n",
              "      <td>1</td>\n",
              "      <td>4</td>\n",
              "    </tr>\n",
              "    <tr>\n",
              "      <th>98</th>\n",
              "      <td>121</td>\n",
              "      <td>143</td>\n",
              "    </tr>\n",
              "  </tbody>\n",
              "</table>\n",
              "</div>\n",
              "      <button class=\"colab-df-convert\" onclick=\"convertToInteractive('df-1816c757-8696-4416-a7d2-b7a41b34e68c')\"\n",
              "              title=\"Convert this dataframe to an interactive table.\"\n",
              "              style=\"display:none;\">\n",
              "        \n",
              "  <svg xmlns=\"http://www.w3.org/2000/svg\" height=\"24px\"viewBox=\"0 0 24 24\"\n",
              "       width=\"24px\">\n",
              "    <path d=\"M0 0h24v24H0V0z\" fill=\"none\"/>\n",
              "    <path d=\"M18.56 5.44l.94 2.06.94-2.06 2.06-.94-2.06-.94-.94-2.06-.94 2.06-2.06.94zm-11 1L8.5 8.5l.94-2.06 2.06-.94-2.06-.94L8.5 2.5l-.94 2.06-2.06.94zm10 10l.94 2.06.94-2.06 2.06-.94-2.06-.94-.94-2.06-.94 2.06-2.06.94z\"/><path d=\"M17.41 7.96l-1.37-1.37c-.4-.4-.92-.59-1.43-.59-.52 0-1.04.2-1.43.59L10.3 9.45l-7.72 7.72c-.78.78-.78 2.05 0 2.83L4 21.41c.39.39.9.59 1.41.59.51 0 1.02-.2 1.41-.59l7.78-7.78 2.81-2.81c.8-.78.8-2.07 0-2.86zM5.41 20L4 18.59l7.72-7.72 1.47 1.35L5.41 20z\"/>\n",
              "  </svg>\n",
              "      </button>\n",
              "      \n",
              "  <style>\n",
              "    .colab-df-container {\n",
              "      display:flex;\n",
              "      flex-wrap:wrap;\n",
              "      gap: 12px;\n",
              "    }\n",
              "\n",
              "    .colab-df-convert {\n",
              "      background-color: #E8F0FE;\n",
              "      border: none;\n",
              "      border-radius: 50%;\n",
              "      cursor: pointer;\n",
              "      display: none;\n",
              "      fill: #1967D2;\n",
              "      height: 32px;\n",
              "      padding: 0 0 0 0;\n",
              "      width: 32px;\n",
              "    }\n",
              "\n",
              "    .colab-df-convert:hover {\n",
              "      background-color: #E2EBFA;\n",
              "      box-shadow: 0px 1px 2px rgba(60, 64, 67, 0.3), 0px 1px 3px 1px rgba(60, 64, 67, 0.15);\n",
              "      fill: #174EA6;\n",
              "    }\n",
              "\n",
              "    [theme=dark] .colab-df-convert {\n",
              "      background-color: #3B4455;\n",
              "      fill: #D2E3FC;\n",
              "    }\n",
              "\n",
              "    [theme=dark] .colab-df-convert:hover {\n",
              "      background-color: #434B5C;\n",
              "      box-shadow: 0px 1px 3px 1px rgba(0, 0, 0, 0.15);\n",
              "      filter: drop-shadow(0px 1px 2px rgba(0, 0, 0, 0.3));\n",
              "      fill: #FFFFFF;\n",
              "    }\n",
              "  </style>\n",
              "\n",
              "      <script>\n",
              "        const buttonEl =\n",
              "          document.querySelector('#df-1816c757-8696-4416-a7d2-b7a41b34e68c button.colab-df-convert');\n",
              "        buttonEl.style.display =\n",
              "          google.colab.kernel.accessAllowed ? 'block' : 'none';\n",
              "\n",
              "        async function convertToInteractive(key) {\n",
              "          const element = document.querySelector('#df-1816c757-8696-4416-a7d2-b7a41b34e68c');\n",
              "          const dataTable =\n",
              "            await google.colab.kernel.invokeFunction('convertToInteractive',\n",
              "                                                     [key], {});\n",
              "          if (!dataTable) return;\n",
              "\n",
              "          const docLinkHtml = 'Like what you see? Visit the ' +\n",
              "            '<a target=\"_blank\" href=https://colab.research.google.com/notebooks/data_table.ipynb>data table notebook</a>'\n",
              "            + ' to learn more about interactive tables.';\n",
              "          element.innerHTML = '';\n",
              "          dataTable['output_type'] = 'display_data';\n",
              "          await google.colab.output.renderOutput(dataTable, element);\n",
              "          const docLink = document.createElement('div');\n",
              "          docLink.innerHTML = docLinkHtml;\n",
              "          element.appendChild(docLink);\n",
              "        }\n",
              "      </script>\n",
              "    </div>\n",
              "  </div>\n",
              "  "
            ]
          },
          "metadata": {},
          "execution_count": 37
        }
      ]
    },
    {
      "cell_type": "code",
      "source": [
        "#Cross tab row Percentages\n",
        "cross_tab_60_89_dpd_target_percent=cross_tab_60_89_dpd_target.apply(lambda x: x/x.sum(), axis=1)\n",
        "round(cross_tab_60_89_dpd_target_percent,2)"
      ],
      "metadata": {
        "colab": {
          "base_uri": "https://localhost:8080/",
          "height": 0
        },
        "id": "Bkjh6k8qa4l5",
        "outputId": "cab5beef-08aa-4b96-e78e-de8d26c0db1a"
      },
      "execution_count": 38,
      "outputs": [
        {
          "output_type": "execute_result",
          "data": {
            "text/plain": [
              "SeriousDlqin2yrs                         0     1\n",
              "NumberOfTime60-89DaysPastDueNotWorse            \n",
              "0                                     0.95  0.05\n",
              "1                                     0.69  0.31\n",
              "2                                     0.50  0.50\n",
              "3                                     0.43  0.57\n",
              "4                                     0.38  0.62\n",
              "5                                     0.38  0.62\n",
              "6                                     0.25  0.75\n",
              "7                                     0.44  0.56\n",
              "8                                     0.50  0.50\n",
              "9                                     1.00  0.00\n",
              "11                                    0.00  1.00\n",
              "96                                    0.20  0.80\n",
              "98                                    0.46  0.54"
            ],
            "text/html": [
              "\n",
              "  <div id=\"df-0705371d-84ab-4b98-bf68-4323c95f78bb\">\n",
              "    <div class=\"colab-df-container\">\n",
              "      <div>\n",
              "<style scoped>\n",
              "    .dataframe tbody tr th:only-of-type {\n",
              "        vertical-align: middle;\n",
              "    }\n",
              "\n",
              "    .dataframe tbody tr th {\n",
              "        vertical-align: top;\n",
              "    }\n",
              "\n",
              "    .dataframe thead th {\n",
              "        text-align: right;\n",
              "    }\n",
              "</style>\n",
              "<table border=\"1\" class=\"dataframe\">\n",
              "  <thead>\n",
              "    <tr style=\"text-align: right;\">\n",
              "      <th>SeriousDlqin2yrs</th>\n",
              "      <th>0</th>\n",
              "      <th>1</th>\n",
              "    </tr>\n",
              "    <tr>\n",
              "      <th>NumberOfTime60-89DaysPastDueNotWorse</th>\n",
              "      <th></th>\n",
              "      <th></th>\n",
              "    </tr>\n",
              "  </thead>\n",
              "  <tbody>\n",
              "    <tr>\n",
              "      <th>0</th>\n",
              "      <td>0.95</td>\n",
              "      <td>0.05</td>\n",
              "    </tr>\n",
              "    <tr>\n",
              "      <th>1</th>\n",
              "      <td>0.69</td>\n",
              "      <td>0.31</td>\n",
              "    </tr>\n",
              "    <tr>\n",
              "      <th>2</th>\n",
              "      <td>0.50</td>\n",
              "      <td>0.50</td>\n",
              "    </tr>\n",
              "    <tr>\n",
              "      <th>3</th>\n",
              "      <td>0.43</td>\n",
              "      <td>0.57</td>\n",
              "    </tr>\n",
              "    <tr>\n",
              "      <th>4</th>\n",
              "      <td>0.38</td>\n",
              "      <td>0.62</td>\n",
              "    </tr>\n",
              "    <tr>\n",
              "      <th>5</th>\n",
              "      <td>0.38</td>\n",
              "      <td>0.62</td>\n",
              "    </tr>\n",
              "    <tr>\n",
              "      <th>6</th>\n",
              "      <td>0.25</td>\n",
              "      <td>0.75</td>\n",
              "    </tr>\n",
              "    <tr>\n",
              "      <th>7</th>\n",
              "      <td>0.44</td>\n",
              "      <td>0.56</td>\n",
              "    </tr>\n",
              "    <tr>\n",
              "      <th>8</th>\n",
              "      <td>0.50</td>\n",
              "      <td>0.50</td>\n",
              "    </tr>\n",
              "    <tr>\n",
              "      <th>9</th>\n",
              "      <td>1.00</td>\n",
              "      <td>0.00</td>\n",
              "    </tr>\n",
              "    <tr>\n",
              "      <th>11</th>\n",
              "      <td>0.00</td>\n",
              "      <td>1.00</td>\n",
              "    </tr>\n",
              "    <tr>\n",
              "      <th>96</th>\n",
              "      <td>0.20</td>\n",
              "      <td>0.80</td>\n",
              "    </tr>\n",
              "    <tr>\n",
              "      <th>98</th>\n",
              "      <td>0.46</td>\n",
              "      <td>0.54</td>\n",
              "    </tr>\n",
              "  </tbody>\n",
              "</table>\n",
              "</div>\n",
              "      <button class=\"colab-df-convert\" onclick=\"convertToInteractive('df-0705371d-84ab-4b98-bf68-4323c95f78bb')\"\n",
              "              title=\"Convert this dataframe to an interactive table.\"\n",
              "              style=\"display:none;\">\n",
              "        \n",
              "  <svg xmlns=\"http://www.w3.org/2000/svg\" height=\"24px\"viewBox=\"0 0 24 24\"\n",
              "       width=\"24px\">\n",
              "    <path d=\"M0 0h24v24H0V0z\" fill=\"none\"/>\n",
              "    <path d=\"M18.56 5.44l.94 2.06.94-2.06 2.06-.94-2.06-.94-.94-2.06-.94 2.06-2.06.94zm-11 1L8.5 8.5l.94-2.06 2.06-.94-2.06-.94L8.5 2.5l-.94 2.06-2.06.94zm10 10l.94 2.06.94-2.06 2.06-.94-2.06-.94-.94-2.06-.94 2.06-2.06.94z\"/><path d=\"M17.41 7.96l-1.37-1.37c-.4-.4-.92-.59-1.43-.59-.52 0-1.04.2-1.43.59L10.3 9.45l-7.72 7.72c-.78.78-.78 2.05 0 2.83L4 21.41c.39.39.9.59 1.41.59.51 0 1.02-.2 1.41-.59l7.78-7.78 2.81-2.81c.8-.78.8-2.07 0-2.86zM5.41 20L4 18.59l7.72-7.72 1.47 1.35L5.41 20z\"/>\n",
              "  </svg>\n",
              "      </button>\n",
              "      \n",
              "  <style>\n",
              "    .colab-df-container {\n",
              "      display:flex;\n",
              "      flex-wrap:wrap;\n",
              "      gap: 12px;\n",
              "    }\n",
              "\n",
              "    .colab-df-convert {\n",
              "      background-color: #E8F0FE;\n",
              "      border: none;\n",
              "      border-radius: 50%;\n",
              "      cursor: pointer;\n",
              "      display: none;\n",
              "      fill: #1967D2;\n",
              "      height: 32px;\n",
              "      padding: 0 0 0 0;\n",
              "      width: 32px;\n",
              "    }\n",
              "\n",
              "    .colab-df-convert:hover {\n",
              "      background-color: #E2EBFA;\n",
              "      box-shadow: 0px 1px 2px rgba(60, 64, 67, 0.3), 0px 1px 3px 1px rgba(60, 64, 67, 0.15);\n",
              "      fill: #174EA6;\n",
              "    }\n",
              "\n",
              "    [theme=dark] .colab-df-convert {\n",
              "      background-color: #3B4455;\n",
              "      fill: #D2E3FC;\n",
              "    }\n",
              "\n",
              "    [theme=dark] .colab-df-convert:hover {\n",
              "      background-color: #434B5C;\n",
              "      box-shadow: 0px 1px 3px 1px rgba(0, 0, 0, 0.15);\n",
              "      filter: drop-shadow(0px 1px 2px rgba(0, 0, 0, 0.3));\n",
              "      fill: #FFFFFF;\n",
              "    }\n",
              "  </style>\n",
              "\n",
              "      <script>\n",
              "        const buttonEl =\n",
              "          document.querySelector('#df-0705371d-84ab-4b98-bf68-4323c95f78bb button.colab-df-convert');\n",
              "        buttonEl.style.display =\n",
              "          google.colab.kernel.accessAllowed ? 'block' : 'none';\n",
              "\n",
              "        async function convertToInteractive(key) {\n",
              "          const element = document.querySelector('#df-0705371d-84ab-4b98-bf68-4323c95f78bb');\n",
              "          const dataTable =\n",
              "            await google.colab.kernel.invokeFunction('convertToInteractive',\n",
              "                                                     [key], {});\n",
              "          if (!dataTable) return;\n",
              "\n",
              "          const docLinkHtml = 'Like what you see? Visit the ' +\n",
              "            '<a target=\"_blank\" href=https://colab.research.google.com/notebooks/data_table.ipynb>data table notebook</a>'\n",
              "            + ' to learn more about interactive tables.';\n",
              "          element.innerHTML = '';\n",
              "          dataTable['output_type'] = 'display_data';\n",
              "          await google.colab.output.renderOutput(dataTable, element);\n",
              "          const docLink = document.createElement('div');\n",
              "          docLink.innerHTML = docLinkHtml;\n",
              "          element.appendChild(docLink);\n",
              "        }\n",
              "      </script>\n",
              "    </div>\n",
              "  </div>\n",
              "  "
            ]
          },
          "metadata": {},
          "execution_count": 38
        }
      ]
    },
    {
      "cell_type": "code",
      "source": [
        "#Percentage of 0 and 1 are of 98 is near to percentages of 7. \n",
        "#Replacing error values with 7\n",
        "\n",
        "df['num_60_89_dpd_new']=df['NumberOfTime60-89DaysPastDueNotWorse']\n",
        "df['num_60_89_dpd_new'][df['num_60_89_dpd_new']>11]=7\n",
        "df['num_60_89_dpd_new']\n",
        "\n",
        "df['num_60_89_dpd_new'].value_counts()"
      ],
      "metadata": {
        "colab": {
          "base_uri": "https://localhost:8080/"
        },
        "id": "FglblXOZbNai",
        "outputId": "26b925a8-293e-4672-f80c-6dde9dd04617"
      },
      "execution_count": 39,
      "outputs": [
        {
          "output_type": "stream",
          "name": "stderr",
          "text": [
            "/usr/local/lib/python3.7/dist-packages/ipykernel_launcher.py:5: SettingWithCopyWarning: \n",
            "A value is trying to be set on a copy of a slice from a DataFrame\n",
            "\n",
            "See the caveats in the documentation: https://pandas.pydata.org/pandas-docs/stable/user_guide/indexing.html#returning-a-view-versus-a-copy\n",
            "  \"\"\"\n"
          ]
        },
        {
          "output_type": "execute_result",
          "data": {
            "text/plain": [
              "0     142396\n",
              "1       5731\n",
              "2       1118\n",
              "3        318\n",
              "7        278\n",
              "4        105\n",
              "5         34\n",
              "6         16\n",
              "8          2\n",
              "11         1\n",
              "9          1\n",
              "Name: num_60_89_dpd_new, dtype: int64"
            ]
          },
          "metadata": {},
          "execution_count": 39
        }
      ]
    },
    {
      "cell_type": "markdown",
      "source": [
        "# ['NumberOfDependents']"
      ],
      "metadata": {
        "id": "DTVVyMIvcdWV"
      }
    },
    {
      "cell_type": "code",
      "source": [
        "# null values present\n",
        "print('Null_count=',df['NumberOfDependents'].isnull().sum())\n",
        "print('Null_percent=',df['NumberOfDependents'].isnull().sum()/len(df)*100)"
      ],
      "metadata": {
        "colab": {
          "base_uri": "https://localhost:8080/"
        },
        "id": "-Lo7luEdcakj",
        "outputId": "73e47d89-5133-4d08-ab5b-6e91f289f7de"
      },
      "execution_count": 40,
      "outputs": [
        {
          "output_type": "stream",
          "name": "stdout",
          "text": [
            "Null_count= 3924\n",
            "Null_percent= 2.616\n"
          ]
        }
      ]
    },
    {
      "cell_type": "code",
      "source": [
        "#calculating Mean\n",
        "Dependent_mean=df['NumberOfDependents'].mean()\n",
        "Dependent_mean"
      ],
      "metadata": {
        "colab": {
          "base_uri": "https://localhost:8080/"
        },
        "id": "k64hscvJeTPX",
        "outputId": "423c3170-f687-4d7f-e2e3-69e0bdcd41a1"
      },
      "execution_count": 41,
      "outputs": [
        {
          "output_type": "execute_result",
          "data": {
            "text/plain": [
              "0.7572222678605657"
            ]
          },
          "metadata": {},
          "execution_count": 41
        }
      ]
    },
    {
      "cell_type": "code",
      "source": [
        "#replacing null values to 0 as mean is near to 0 where highest dependents are present.\n",
        "df['NumberOfDependents_new']=df['NumberOfDependents']\n",
        "df['NumberOfDependents_new'][df['NumberOfDependents_new'].isnull()]=0\n",
        "df['NumberOfDependents_new'].isnull().sum()"
      ],
      "metadata": {
        "colab": {
          "base_uri": "https://localhost:8080/"
        },
        "id": "9RYSJ6gLf68J",
        "outputId": "e46af20c-40ae-465b-ecf9-4713b8e893c0"
      },
      "execution_count": 42,
      "outputs": [
        {
          "output_type": "stream",
          "name": "stderr",
          "text": [
            "/usr/local/lib/python3.7/dist-packages/ipykernel_launcher.py:3: SettingWithCopyWarning: \n",
            "A value is trying to be set on a copy of a slice from a DataFrame\n",
            "\n",
            "See the caveats in the documentation: https://pandas.pydata.org/pandas-docs/stable/user_guide/indexing.html#returning-a-view-versus-a-copy\n",
            "  This is separate from the ipykernel package so we can avoid doing imports until\n"
          ]
        },
        {
          "output_type": "execute_result",
          "data": {
            "text/plain": [
              "0"
            ]
          },
          "metadata": {},
          "execution_count": 42
        }
      ]
    },
    {
      "cell_type": "code",
      "source": [
        "df['NumberOfDependents_new'].value_counts()"
      ],
      "metadata": {
        "colab": {
          "base_uri": "https://localhost:8080/"
        },
        "id": "sLOeVc7gg-oz",
        "outputId": "9eee4cdf-47e2-4e4c-f3d0-59b1d64684e5"
      },
      "execution_count": 43,
      "outputs": [
        {
          "output_type": "execute_result",
          "data": {
            "text/plain": [
              "0.0     90826\n",
              "1.0     26316\n",
              "2.0     19522\n",
              "3.0      9483\n",
              "4.0      2862\n",
              "5.0       746\n",
              "6.0       158\n",
              "7.0        51\n",
              "8.0        24\n",
              "10.0        5\n",
              "9.0         5\n",
              "20.0        1\n",
              "13.0        1\n",
              "Name: NumberOfDependents_new, dtype: int64"
            ]
          },
          "metadata": {},
          "execution_count": 43
        }
      ]
    },
    {
      "cell_type": "markdown",
      "source": [
        "# Model Building :"
      ],
      "metadata": {
        "id": "DlXY-7o2cyLk"
      }
    },
    {
      "cell_type": "markdown",
      "source": [
        "# Using Logistic Regression:"
      ],
      "metadata": {
        "id": "rZbxBLYjrZwS"
      }
    },
    {
      "cell_type": "code",
      "source": [
        "from sklearn.linear_model import LogisticRegression\n",
        "logistic = LogisticRegression()"
      ],
      "metadata": {
        "id": "Dj0ZQHo-esv4"
      },
      "execution_count": 44,
      "outputs": []
    },
    {
      "cell_type": "code",
      "source": [
        "df.head()"
      ],
      "metadata": {
        "colab": {
          "base_uri": "https://localhost:8080/",
          "height": 287
        },
        "id": "UszfZ0CWfMG7",
        "outputId": "2a9dc8bd-ee7f-465d-ae87-f56c51b0d299"
      },
      "execution_count": 45,
      "outputs": [
        {
          "output_type": "execute_result",
          "data": {
            "text/plain": [
              "   Sr_No  SeriousDlqin2yrs  monthly_utilization  age  \\\n",
              "0      1                 1             0.766127   45   \n",
              "1      2                 0             0.957151   40   \n",
              "2      3                 0             0.658180   38   \n",
              "3      4                 0             0.233810   30   \n",
              "4      5                 0             0.907239   49   \n",
              "\n",
              "   NumberOfTime30-59DaysPastDueNotWorse  DebtRatio  MonthlyIncome  \\\n",
              "0                                     2   0.802982         9120.0   \n",
              "1                                     0   0.121876         2600.0   \n",
              "2                                     1   0.085113         3042.0   \n",
              "3                                     0   0.036050         3300.0   \n",
              "4                                     1   0.024926        63588.0   \n",
              "\n",
              "   NumberOfOpenCreditLinesAndLoans  NumberOfTimes90DaysLate  \\\n",
              "0                               13                        0   \n",
              "1                                4                        0   \n",
              "2                                2                        1   \n",
              "3                                5                        0   \n",
              "4                                7                        0   \n",
              "\n",
              "   NumberRealEstateLoansOrLines  NumberOfTime60-89DaysPastDueNotWorse  \\\n",
              "0                             6                                     0   \n",
              "1                             0                                     0   \n",
              "2                             0                                     0   \n",
              "3                             0                                     0   \n",
              "4                             1                                     0   \n",
              "\n",
              "   NumberOfDependents  util_new  MonthlyIncome_new  num_30_59_dpd_new  \\\n",
              "0                 2.0  0.766127             9120.0                  2   \n",
              "1                 1.0  0.957151             2600.0                  0   \n",
              "2                 0.0  0.658180             3042.0                  1   \n",
              "3                 0.0  0.233810             3300.0                  0   \n",
              "4                 0.0  0.907239            63588.0                  1   \n",
              "\n",
              "   num_90_late_new  num_60_89_dpd_new  NumberOfDependents_new  \n",
              "0                0                  0                     2.0  \n",
              "1                0                  0                     1.0  \n",
              "2                1                  0                     0.0  \n",
              "3                0                  0                     0.0  \n",
              "4                0                  0                     0.0  "
            ],
            "text/html": [
              "\n",
              "  <div id=\"df-653f6204-5be9-4e2a-aa8a-f7533344f53b\">\n",
              "    <div class=\"colab-df-container\">\n",
              "      <div>\n",
              "<style scoped>\n",
              "    .dataframe tbody tr th:only-of-type {\n",
              "        vertical-align: middle;\n",
              "    }\n",
              "\n",
              "    .dataframe tbody tr th {\n",
              "        vertical-align: top;\n",
              "    }\n",
              "\n",
              "    .dataframe thead th {\n",
              "        text-align: right;\n",
              "    }\n",
              "</style>\n",
              "<table border=\"1\" class=\"dataframe\">\n",
              "  <thead>\n",
              "    <tr style=\"text-align: right;\">\n",
              "      <th></th>\n",
              "      <th>Sr_No</th>\n",
              "      <th>SeriousDlqin2yrs</th>\n",
              "      <th>monthly_utilization</th>\n",
              "      <th>age</th>\n",
              "      <th>NumberOfTime30-59DaysPastDueNotWorse</th>\n",
              "      <th>DebtRatio</th>\n",
              "      <th>MonthlyIncome</th>\n",
              "      <th>NumberOfOpenCreditLinesAndLoans</th>\n",
              "      <th>NumberOfTimes90DaysLate</th>\n",
              "      <th>NumberRealEstateLoansOrLines</th>\n",
              "      <th>NumberOfTime60-89DaysPastDueNotWorse</th>\n",
              "      <th>NumberOfDependents</th>\n",
              "      <th>util_new</th>\n",
              "      <th>MonthlyIncome_new</th>\n",
              "      <th>num_30_59_dpd_new</th>\n",
              "      <th>num_90_late_new</th>\n",
              "      <th>num_60_89_dpd_new</th>\n",
              "      <th>NumberOfDependents_new</th>\n",
              "    </tr>\n",
              "  </thead>\n",
              "  <tbody>\n",
              "    <tr>\n",
              "      <th>0</th>\n",
              "      <td>1</td>\n",
              "      <td>1</td>\n",
              "      <td>0.766127</td>\n",
              "      <td>45</td>\n",
              "      <td>2</td>\n",
              "      <td>0.802982</td>\n",
              "      <td>9120.0</td>\n",
              "      <td>13</td>\n",
              "      <td>0</td>\n",
              "      <td>6</td>\n",
              "      <td>0</td>\n",
              "      <td>2.0</td>\n",
              "      <td>0.766127</td>\n",
              "      <td>9120.0</td>\n",
              "      <td>2</td>\n",
              "      <td>0</td>\n",
              "      <td>0</td>\n",
              "      <td>2.0</td>\n",
              "    </tr>\n",
              "    <tr>\n",
              "      <th>1</th>\n",
              "      <td>2</td>\n",
              "      <td>0</td>\n",
              "      <td>0.957151</td>\n",
              "      <td>40</td>\n",
              "      <td>0</td>\n",
              "      <td>0.121876</td>\n",
              "      <td>2600.0</td>\n",
              "      <td>4</td>\n",
              "      <td>0</td>\n",
              "      <td>0</td>\n",
              "      <td>0</td>\n",
              "      <td>1.0</td>\n",
              "      <td>0.957151</td>\n",
              "      <td>2600.0</td>\n",
              "      <td>0</td>\n",
              "      <td>0</td>\n",
              "      <td>0</td>\n",
              "      <td>1.0</td>\n",
              "    </tr>\n",
              "    <tr>\n",
              "      <th>2</th>\n",
              "      <td>3</td>\n",
              "      <td>0</td>\n",
              "      <td>0.658180</td>\n",
              "      <td>38</td>\n",
              "      <td>1</td>\n",
              "      <td>0.085113</td>\n",
              "      <td>3042.0</td>\n",
              "      <td>2</td>\n",
              "      <td>1</td>\n",
              "      <td>0</td>\n",
              "      <td>0</td>\n",
              "      <td>0.0</td>\n",
              "      <td>0.658180</td>\n",
              "      <td>3042.0</td>\n",
              "      <td>1</td>\n",
              "      <td>1</td>\n",
              "      <td>0</td>\n",
              "      <td>0.0</td>\n",
              "    </tr>\n",
              "    <tr>\n",
              "      <th>3</th>\n",
              "      <td>4</td>\n",
              "      <td>0</td>\n",
              "      <td>0.233810</td>\n",
              "      <td>30</td>\n",
              "      <td>0</td>\n",
              "      <td>0.036050</td>\n",
              "      <td>3300.0</td>\n",
              "      <td>5</td>\n",
              "      <td>0</td>\n",
              "      <td>0</td>\n",
              "      <td>0</td>\n",
              "      <td>0.0</td>\n",
              "      <td>0.233810</td>\n",
              "      <td>3300.0</td>\n",
              "      <td>0</td>\n",
              "      <td>0</td>\n",
              "      <td>0</td>\n",
              "      <td>0.0</td>\n",
              "    </tr>\n",
              "    <tr>\n",
              "      <th>4</th>\n",
              "      <td>5</td>\n",
              "      <td>0</td>\n",
              "      <td>0.907239</td>\n",
              "      <td>49</td>\n",
              "      <td>1</td>\n",
              "      <td>0.024926</td>\n",
              "      <td>63588.0</td>\n",
              "      <td>7</td>\n",
              "      <td>0</td>\n",
              "      <td>1</td>\n",
              "      <td>0</td>\n",
              "      <td>0.0</td>\n",
              "      <td>0.907239</td>\n",
              "      <td>63588.0</td>\n",
              "      <td>1</td>\n",
              "      <td>0</td>\n",
              "      <td>0</td>\n",
              "      <td>0.0</td>\n",
              "    </tr>\n",
              "  </tbody>\n",
              "</table>\n",
              "</div>\n",
              "      <button class=\"colab-df-convert\" onclick=\"convertToInteractive('df-653f6204-5be9-4e2a-aa8a-f7533344f53b')\"\n",
              "              title=\"Convert this dataframe to an interactive table.\"\n",
              "              style=\"display:none;\">\n",
              "        \n",
              "  <svg xmlns=\"http://www.w3.org/2000/svg\" height=\"24px\"viewBox=\"0 0 24 24\"\n",
              "       width=\"24px\">\n",
              "    <path d=\"M0 0h24v24H0V0z\" fill=\"none\"/>\n",
              "    <path d=\"M18.56 5.44l.94 2.06.94-2.06 2.06-.94-2.06-.94-.94-2.06-.94 2.06-2.06.94zm-11 1L8.5 8.5l.94-2.06 2.06-.94-2.06-.94L8.5 2.5l-.94 2.06-2.06.94zm10 10l.94 2.06.94-2.06 2.06-.94-2.06-.94-.94-2.06-.94 2.06-2.06.94z\"/><path d=\"M17.41 7.96l-1.37-1.37c-.4-.4-.92-.59-1.43-.59-.52 0-1.04.2-1.43.59L10.3 9.45l-7.72 7.72c-.78.78-.78 2.05 0 2.83L4 21.41c.39.39.9.59 1.41.59.51 0 1.02-.2 1.41-.59l7.78-7.78 2.81-2.81c.8-.78.8-2.07 0-2.86zM5.41 20L4 18.59l7.72-7.72 1.47 1.35L5.41 20z\"/>\n",
              "  </svg>\n",
              "      </button>\n",
              "      \n",
              "  <style>\n",
              "    .colab-df-container {\n",
              "      display:flex;\n",
              "      flex-wrap:wrap;\n",
              "      gap: 12px;\n",
              "    }\n",
              "\n",
              "    .colab-df-convert {\n",
              "      background-color: #E8F0FE;\n",
              "      border: none;\n",
              "      border-radius: 50%;\n",
              "      cursor: pointer;\n",
              "      display: none;\n",
              "      fill: #1967D2;\n",
              "      height: 32px;\n",
              "      padding: 0 0 0 0;\n",
              "      width: 32px;\n",
              "    }\n",
              "\n",
              "    .colab-df-convert:hover {\n",
              "      background-color: #E2EBFA;\n",
              "      box-shadow: 0px 1px 2px rgba(60, 64, 67, 0.3), 0px 1px 3px 1px rgba(60, 64, 67, 0.15);\n",
              "      fill: #174EA6;\n",
              "    }\n",
              "\n",
              "    [theme=dark] .colab-df-convert {\n",
              "      background-color: #3B4455;\n",
              "      fill: #D2E3FC;\n",
              "    }\n",
              "\n",
              "    [theme=dark] .colab-df-convert:hover {\n",
              "      background-color: #434B5C;\n",
              "      box-shadow: 0px 1px 3px 1px rgba(0, 0, 0, 0.15);\n",
              "      filter: drop-shadow(0px 1px 2px rgba(0, 0, 0, 0.3));\n",
              "      fill: #FFFFFF;\n",
              "    }\n",
              "  </style>\n",
              "\n",
              "      <script>\n",
              "        const buttonEl =\n",
              "          document.querySelector('#df-653f6204-5be9-4e2a-aa8a-f7533344f53b button.colab-df-convert');\n",
              "        buttonEl.style.display =\n",
              "          google.colab.kernel.accessAllowed ? 'block' : 'none';\n",
              "\n",
              "        async function convertToInteractive(key) {\n",
              "          const element = document.querySelector('#df-653f6204-5be9-4e2a-aa8a-f7533344f53b');\n",
              "          const dataTable =\n",
              "            await google.colab.kernel.invokeFunction('convertToInteractive',\n",
              "                                                     [key], {});\n",
              "          if (!dataTable) return;\n",
              "\n",
              "          const docLinkHtml = 'Like what you see? Visit the ' +\n",
              "            '<a target=\"_blank\" href=https://colab.research.google.com/notebooks/data_table.ipynb>data table notebook</a>'\n",
              "            + ' to learn more about interactive tables.';\n",
              "          element.innerHTML = '';\n",
              "          dataTable['output_type'] = 'display_data';\n",
              "          await google.colab.output.renderOutput(dataTable, element);\n",
              "          const docLink = document.createElement('div');\n",
              "          docLink.innerHTML = docLinkHtml;\n",
              "          element.appendChild(docLink);\n",
              "        }\n",
              "      </script>\n",
              "    </div>\n",
              "  </div>\n",
              "  "
            ]
          },
          "metadata": {},
          "execution_count": 45
        }
      ]
    },
    {
      "cell_type": "code",
      "source": [
        "df.columns"
      ],
      "metadata": {
        "colab": {
          "base_uri": "https://localhost:8080/"
        },
        "id": "zGa-lkchfbwA",
        "outputId": "838fbf57-4f08-475c-89aa-ff539ab2933b"
      },
      "execution_count": 46,
      "outputs": [
        {
          "output_type": "execute_result",
          "data": {
            "text/plain": [
              "Index(['Sr_No', 'SeriousDlqin2yrs', 'monthly_utilization', 'age',\n",
              "       'NumberOfTime30-59DaysPastDueNotWorse', 'DebtRatio', 'MonthlyIncome',\n",
              "       'NumberOfOpenCreditLinesAndLoans', 'NumberOfTimes90DaysLate',\n",
              "       'NumberRealEstateLoansOrLines', 'NumberOfTime60-89DaysPastDueNotWorse',\n",
              "       'NumberOfDependents', 'util_new', 'MonthlyIncome_new',\n",
              "       'num_30_59_dpd_new', 'num_90_late_new', 'num_60_89_dpd_new',\n",
              "       'NumberOfDependents_new'],\n",
              "      dtype='object')"
            ]
          },
          "metadata": {},
          "execution_count": 46
        }
      ]
    },
    {
      "cell_type": "code",
      "source": [
        "logistic.fit(df[['util_new']+['age']+['num_30_59_dpd_new']+['DebtRatio']+['MonthlyIncome_new']+['NumberOfOpenCreditLinesAndLoans']+['num_90_late_new']+['NumberRealEstateLoansOrLines']+['num_60_89_dpd_new']+['NumberOfDependents_new']],df[['SeriousDlqin2yrs']])"
      ],
      "metadata": {
        "colab": {
          "base_uri": "https://localhost:8080/"
        },
        "id": "3lNQ2LAUe2XL",
        "outputId": "bb87743e-1492-47b6-d402-60a0c9bf92a7"
      },
      "execution_count": 47,
      "outputs": [
        {
          "output_type": "stream",
          "name": "stderr",
          "text": [
            "/usr/local/lib/python3.7/dist-packages/sklearn/utils/validation.py:993: DataConversionWarning: A column-vector y was passed when a 1d array was expected. Please change the shape of y to (n_samples, ), for example using ravel().\n",
            "  y = column_or_1d(y, warn=True)\n",
            "/usr/local/lib/python3.7/dist-packages/sklearn/linear_model/_logistic.py:818: ConvergenceWarning: lbfgs failed to converge (status=1):\n",
            "STOP: TOTAL NO. of ITERATIONS REACHED LIMIT.\n",
            "\n",
            "Increase the number of iterations (max_iter) or scale the data as shown in:\n",
            "    https://scikit-learn.org/stable/modules/preprocessing.html\n",
            "Please also refer to the documentation for alternative solver options:\n",
            "    https://scikit-learn.org/stable/modules/linear_model.html#logistic-regression\n",
            "  extra_warning_msg=_LOGISTIC_SOLVER_CONVERGENCE_MSG,\n"
          ]
        },
        {
          "output_type": "execute_result",
          "data": {
            "text/plain": [
              "LogisticRegression()"
            ]
          },
          "metadata": {},
          "execution_count": 47
        }
      ]
    },
    {
      "cell_type": "code",
      "source": [
        "print(\"Intercept\", logistic.intercept_)\n",
        "print(\"Coefficients\", logistic.coef_)"
      ],
      "metadata": {
        "colab": {
          "base_uri": "https://localhost:8080/"
        },
        "id": "aG9DqKTghcY_",
        "outputId": "4e2bbc77-0a39-4f7a-c5e7-ed758275e595"
      },
      "execution_count": 48,
      "outputs": [
        {
          "output_type": "stream",
          "name": "stdout",
          "text": [
            "Intercept [-0.21546644]\n",
            "Coefficients [[ 2.68586326e-01 -5.04229827e-02  5.06174434e-01 -9.94962933e-05\n",
            "  -6.75913921e-05 -7.19836556e-03  4.62057700e-01  1.39977439e-01\n",
            "   3.13313495e-01 -5.92512244e-02]]\n"
          ]
        }
      ]
    },
    {
      "cell_type": "markdown",
      "source": [
        "# Confusion Matrix & Accuracy"
      ],
      "metadata": {
        "id": "_ygAAdpYiv03"
      }
    },
    {
      "cell_type": "code",
      "source": [
        "import numpy as np\n",
        "import matplotlib.pyplot as plt\n",
        "from sklearn.metrics import confusion_matrix"
      ],
      "metadata": {
        "id": "CyneECQBiz-t"
      },
      "execution_count": 49,
      "outputs": []
    },
    {
      "cell_type": "code",
      "source": [
        "predict1=logistic.predict(df[['util_new']+['age']+['num_30_59_dpd_new']+['DebtRatio']+['MonthlyIncome_new']+['NumberOfOpenCreditLinesAndLoans']+['num_90_late_new']+['NumberRealEstateLoansOrLines']+['num_60_89_dpd_new']+['NumberOfDependents_new']])\n",
        "predict1\n",
        "\n",
        "cm1 = confusion_matrix(df[['SeriousDlqin2yrs']],predict1)\n",
        "print(cm1)\n"
      ],
      "metadata": {
        "colab": {
          "base_uri": "https://localhost:8080/"
        },
        "id": "UXtX9xuai8On",
        "outputId": "2cfd4be9-d07c-4d10-9f46-5afada96dbca"
      },
      "execution_count": 50,
      "outputs": [
        {
          "output_type": "stream",
          "name": "stdout",
          "text": [
            "[[139325    649]\n",
            " [  9042    984]]\n"
          ]
        }
      ]
    },
    {
      "cell_type": "code",
      "source": [
        "print(\"col sums\", sum(cm1))\n",
        "total1=sum(sum(cm1))\n",
        "print(\"Total\", total1)"
      ],
      "metadata": {
        "colab": {
          "base_uri": "https://localhost:8080/"
        },
        "id": "qNl_3XEJlKUd",
        "outputId": "af0349bc-a5a8-4d4f-ad65-9a76cdb2a0fe"
      },
      "execution_count": 51,
      "outputs": [
        {
          "output_type": "stream",
          "name": "stdout",
          "text": [
            "col sums [148367   1633]\n",
            "Total 150000\n"
          ]
        }
      ]
    },
    {
      "cell_type": "code",
      "source": [
        "accuracy1=(cm1[0,0]+cm1[1,1])/total1\n",
        "accuracy1"
      ],
      "metadata": {
        "colab": {
          "base_uri": "https://localhost:8080/"
        },
        "id": "WMu0Wr3vlOAh",
        "outputId": "592c6ed9-2132-4c2d-c057-d5c88cc22fd8"
      },
      "execution_count": 52,
      "outputs": [
        {
          "output_type": "execute_result",
          "data": {
            "text/plain": [
              "0.9353933333333333"
            ]
          },
          "metadata": {},
          "execution_count": 52
        }
      ]
    },
    {
      "cell_type": "markdown",
      "source": [
        "# **93.5% accuracy with logistic regression**"
      ],
      "metadata": {
        "id": "fArzKMi8lqvI"
      }
    },
    {
      "cell_type": "markdown",
      "source": [
        "# Multicollinearity:"
      ],
      "metadata": {
        "id": "27Us6asFadOP"
      }
    },
    {
      "cell_type": "code",
      "source": [
        "df1=df[['SeriousDlqin2yrs','util_new','age','num_30_59_dpd_new','DebtRatio','MonthlyIncome_new','NumberOfOpenCreditLinesAndLoans','num_90_late_new','NumberRealEstateLoansOrLines','num_60_89_dpd_new','NumberOfDependents_new']]\n",
        "df1.head()"
      ],
      "metadata": {
        "colab": {
          "base_uri": "https://localhost:8080/",
          "height": 270
        },
        "id": "AkAMs-k8a6DY",
        "outputId": "ae0fde94-bceb-488d-be00-d3282b0cf5d8"
      },
      "execution_count": 57,
      "outputs": [
        {
          "output_type": "execute_result",
          "data": {
            "text/plain": [
              "   SeriousDlqin2yrs  util_new  age  num_30_59_dpd_new  DebtRatio  \\\n",
              "0                 1  0.766127   45                  2   0.802982   \n",
              "1                 0  0.957151   40                  0   0.121876   \n",
              "2                 0  0.658180   38                  1   0.085113   \n",
              "3                 0  0.233810   30                  0   0.036050   \n",
              "4                 0  0.907239   49                  1   0.024926   \n",
              "\n",
              "   MonthlyIncome_new  NumberOfOpenCreditLinesAndLoans  num_90_late_new  \\\n",
              "0             9120.0                               13                0   \n",
              "1             2600.0                                4                0   \n",
              "2             3042.0                                2                1   \n",
              "3             3300.0                                5                0   \n",
              "4            63588.0                                7                0   \n",
              "\n",
              "   NumberRealEstateLoansOrLines  num_60_89_dpd_new  NumberOfDependents_new  \n",
              "0                             6                  0                     2.0  \n",
              "1                             0                  0                     1.0  \n",
              "2                             0                  0                     0.0  \n",
              "3                             0                  0                     0.0  \n",
              "4                             1                  0                     0.0  "
            ],
            "text/html": [
              "\n",
              "  <div id=\"df-436af08b-a9a9-46fd-b7df-df18ebb6e650\">\n",
              "    <div class=\"colab-df-container\">\n",
              "      <div>\n",
              "<style scoped>\n",
              "    .dataframe tbody tr th:only-of-type {\n",
              "        vertical-align: middle;\n",
              "    }\n",
              "\n",
              "    .dataframe tbody tr th {\n",
              "        vertical-align: top;\n",
              "    }\n",
              "\n",
              "    .dataframe thead th {\n",
              "        text-align: right;\n",
              "    }\n",
              "</style>\n",
              "<table border=\"1\" class=\"dataframe\">\n",
              "  <thead>\n",
              "    <tr style=\"text-align: right;\">\n",
              "      <th></th>\n",
              "      <th>SeriousDlqin2yrs</th>\n",
              "      <th>util_new</th>\n",
              "      <th>age</th>\n",
              "      <th>num_30_59_dpd_new</th>\n",
              "      <th>DebtRatio</th>\n",
              "      <th>MonthlyIncome_new</th>\n",
              "      <th>NumberOfOpenCreditLinesAndLoans</th>\n",
              "      <th>num_90_late_new</th>\n",
              "      <th>NumberRealEstateLoansOrLines</th>\n",
              "      <th>num_60_89_dpd_new</th>\n",
              "      <th>NumberOfDependents_new</th>\n",
              "    </tr>\n",
              "  </thead>\n",
              "  <tbody>\n",
              "    <tr>\n",
              "      <th>0</th>\n",
              "      <td>1</td>\n",
              "      <td>0.766127</td>\n",
              "      <td>45</td>\n",
              "      <td>2</td>\n",
              "      <td>0.802982</td>\n",
              "      <td>9120.0</td>\n",
              "      <td>13</td>\n",
              "      <td>0</td>\n",
              "      <td>6</td>\n",
              "      <td>0</td>\n",
              "      <td>2.0</td>\n",
              "    </tr>\n",
              "    <tr>\n",
              "      <th>1</th>\n",
              "      <td>0</td>\n",
              "      <td>0.957151</td>\n",
              "      <td>40</td>\n",
              "      <td>0</td>\n",
              "      <td>0.121876</td>\n",
              "      <td>2600.0</td>\n",
              "      <td>4</td>\n",
              "      <td>0</td>\n",
              "      <td>0</td>\n",
              "      <td>0</td>\n",
              "      <td>1.0</td>\n",
              "    </tr>\n",
              "    <tr>\n",
              "      <th>2</th>\n",
              "      <td>0</td>\n",
              "      <td>0.658180</td>\n",
              "      <td>38</td>\n",
              "      <td>1</td>\n",
              "      <td>0.085113</td>\n",
              "      <td>3042.0</td>\n",
              "      <td>2</td>\n",
              "      <td>1</td>\n",
              "      <td>0</td>\n",
              "      <td>0</td>\n",
              "      <td>0.0</td>\n",
              "    </tr>\n",
              "    <tr>\n",
              "      <th>3</th>\n",
              "      <td>0</td>\n",
              "      <td>0.233810</td>\n",
              "      <td>30</td>\n",
              "      <td>0</td>\n",
              "      <td>0.036050</td>\n",
              "      <td>3300.0</td>\n",
              "      <td>5</td>\n",
              "      <td>0</td>\n",
              "      <td>0</td>\n",
              "      <td>0</td>\n",
              "      <td>0.0</td>\n",
              "    </tr>\n",
              "    <tr>\n",
              "      <th>4</th>\n",
              "      <td>0</td>\n",
              "      <td>0.907239</td>\n",
              "      <td>49</td>\n",
              "      <td>1</td>\n",
              "      <td>0.024926</td>\n",
              "      <td>63588.0</td>\n",
              "      <td>7</td>\n",
              "      <td>0</td>\n",
              "      <td>1</td>\n",
              "      <td>0</td>\n",
              "      <td>0.0</td>\n",
              "    </tr>\n",
              "  </tbody>\n",
              "</table>\n",
              "</div>\n",
              "      <button class=\"colab-df-convert\" onclick=\"convertToInteractive('df-436af08b-a9a9-46fd-b7df-df18ebb6e650')\"\n",
              "              title=\"Convert this dataframe to an interactive table.\"\n",
              "              style=\"display:none;\">\n",
              "        \n",
              "  <svg xmlns=\"http://www.w3.org/2000/svg\" height=\"24px\"viewBox=\"0 0 24 24\"\n",
              "       width=\"24px\">\n",
              "    <path d=\"M0 0h24v24H0V0z\" fill=\"none\"/>\n",
              "    <path d=\"M18.56 5.44l.94 2.06.94-2.06 2.06-.94-2.06-.94-.94-2.06-.94 2.06-2.06.94zm-11 1L8.5 8.5l.94-2.06 2.06-.94-2.06-.94L8.5 2.5l-.94 2.06-2.06.94zm10 10l.94 2.06.94-2.06 2.06-.94-2.06-.94-.94-2.06-.94 2.06-2.06.94z\"/><path d=\"M17.41 7.96l-1.37-1.37c-.4-.4-.92-.59-1.43-.59-.52 0-1.04.2-1.43.59L10.3 9.45l-7.72 7.72c-.78.78-.78 2.05 0 2.83L4 21.41c.39.39.9.59 1.41.59.51 0 1.02-.2 1.41-.59l7.78-7.78 2.81-2.81c.8-.78.8-2.07 0-2.86zM5.41 20L4 18.59l7.72-7.72 1.47 1.35L5.41 20z\"/>\n",
              "  </svg>\n",
              "      </button>\n",
              "      \n",
              "  <style>\n",
              "    .colab-df-container {\n",
              "      display:flex;\n",
              "      flex-wrap:wrap;\n",
              "      gap: 12px;\n",
              "    }\n",
              "\n",
              "    .colab-df-convert {\n",
              "      background-color: #E8F0FE;\n",
              "      border: none;\n",
              "      border-radius: 50%;\n",
              "      cursor: pointer;\n",
              "      display: none;\n",
              "      fill: #1967D2;\n",
              "      height: 32px;\n",
              "      padding: 0 0 0 0;\n",
              "      width: 32px;\n",
              "    }\n",
              "\n",
              "    .colab-df-convert:hover {\n",
              "      background-color: #E2EBFA;\n",
              "      box-shadow: 0px 1px 2px rgba(60, 64, 67, 0.3), 0px 1px 3px 1px rgba(60, 64, 67, 0.15);\n",
              "      fill: #174EA6;\n",
              "    }\n",
              "\n",
              "    [theme=dark] .colab-df-convert {\n",
              "      background-color: #3B4455;\n",
              "      fill: #D2E3FC;\n",
              "    }\n",
              "\n",
              "    [theme=dark] .colab-df-convert:hover {\n",
              "      background-color: #434B5C;\n",
              "      box-shadow: 0px 1px 3px 1px rgba(0, 0, 0, 0.15);\n",
              "      filter: drop-shadow(0px 1px 2px rgba(0, 0, 0, 0.3));\n",
              "      fill: #FFFFFF;\n",
              "    }\n",
              "  </style>\n",
              "\n",
              "      <script>\n",
              "        const buttonEl =\n",
              "          document.querySelector('#df-436af08b-a9a9-46fd-b7df-df18ebb6e650 button.colab-df-convert');\n",
              "        buttonEl.style.display =\n",
              "          google.colab.kernel.accessAllowed ? 'block' : 'none';\n",
              "\n",
              "        async function convertToInteractive(key) {\n",
              "          const element = document.querySelector('#df-436af08b-a9a9-46fd-b7df-df18ebb6e650');\n",
              "          const dataTable =\n",
              "            await google.colab.kernel.invokeFunction('convertToInteractive',\n",
              "                                                     [key], {});\n",
              "          if (!dataTable) return;\n",
              "\n",
              "          const docLinkHtml = 'Like what you see? Visit the ' +\n",
              "            '<a target=\"_blank\" href=https://colab.research.google.com/notebooks/data_table.ipynb>data table notebook</a>'\n",
              "            + ' to learn more about interactive tables.';\n",
              "          element.innerHTML = '';\n",
              "          dataTable['output_type'] = 'display_data';\n",
              "          await google.colab.output.renderOutput(dataTable, element);\n",
              "          const docLink = document.createElement('div');\n",
              "          docLink.innerHTML = docLinkHtml;\n",
              "          element.appendChild(docLink);\n",
              "        }\n",
              "      </script>\n",
              "    </div>\n",
              "  </div>\n",
              "  "
            ]
          },
          "metadata": {},
          "execution_count": 57
        }
      ]
    },
    {
      "cell_type": "code",
      "source": [
        "import statsmodels.formula.api as sm\n",
        "\n",
        "def vif_cal(input_data, dependent_col):\n",
        "    x_vars=input_data.drop([dependent_col], axis=1)\n",
        "    xvar_names=x_vars.columns\n",
        "    for i in range(0,xvar_names.shape[0]):\n",
        "        y=x_vars[xvar_names[i]] \n",
        "        x=x_vars[xvar_names.drop(xvar_names[i])]\n",
        "        rsq=sm.ols(formula=\"y~x\", data=x_vars).fit().rsquared  \n",
        "        vif=round(1/(1-rsq),2)\n",
        "        print (xvar_names[i], \" VIF = \" , vif)"
      ],
      "metadata": {
        "id": "hyHgMJo9ZAP3"
      },
      "execution_count": 55,
      "outputs": []
    },
    {
      "cell_type": "code",
      "source": [
        "vif_cal(input_data=df1, dependent_col=\"SeriousDlqin2yrs\")\n",
        "# Variables are colinear"
      ],
      "metadata": {
        "colab": {
          "base_uri": "https://localhost:8080/"
        },
        "id": "BMCxyu4IacDw",
        "outputId": "101035e6-a9ee-4b0c-d0b5-21bfcbed12b3"
      },
      "execution_count": 59,
      "outputs": [
        {
          "output_type": "stream",
          "name": "stdout",
          "text": [
            "util_new  VIF =  1.14\n",
            "age  VIF =  1.14\n",
            "num_30_59_dpd_new  VIF =  1.31\n",
            "DebtRatio  VIF =  1.02\n",
            "MonthlyIncome_new  VIF =  1.02\n",
            "NumberOfOpenCreditLinesAndLoans  VIF =  1.3\n",
            "num_90_late_new  VIF =  1.74\n",
            "NumberRealEstateLoansOrLines  VIF =  1.27\n",
            "num_60_89_dpd_new  VIF =  1.8\n",
            "NumberOfDependents_new  VIF =  1.08\n"
          ]
        }
      ]
    },
    {
      "cell_type": "markdown",
      "source": [
        "# Individual Impact of Variables"
      ],
      "metadata": {
        "id": "kCP4nPUsgfHy"
      }
    },
    {
      "cell_type": "code",
      "source": [
        "import statsmodels.api as sm\n",
        "impact=sm.Logit(df1['SeriousDlqin2yrs'],df1[['util_new']+['age']+['num_30_59_dpd_new']+['DebtRatio']+['MonthlyIncome_new']+['NumberOfOpenCreditLinesAndLoans']+['num_90_late_new']+['NumberRealEstateLoansOrLines']+['num_60_89_dpd_new']+['NumberOfDependents_new']])\n",
        "impact.fit()\n",
        "print(impact.fit().summary())\n",
        "# All are almost same impactful variables."
      ],
      "metadata": {
        "colab": {
          "base_uri": "https://localhost:8080/"
        },
        "id": "XhG_kIeDghlb",
        "outputId": "1f8a80e8-1a67-4a6e-ff52-5ed12382bbf2"
      },
      "execution_count": 63,
      "outputs": [
        {
          "output_type": "stream",
          "name": "stdout",
          "text": [
            "Optimization terminated successfully.\n",
            "         Current function value: 0.210866\n",
            "         Iterations 8\n",
            "Optimization terminated successfully.\n",
            "         Current function value: 0.210866\n",
            "         Iterations 8\n",
            "                           Logit Regression Results                           \n",
            "==============================================================================\n",
            "Dep. Variable:       SeriousDlqin2yrs   No. Observations:               150000\n",
            "Model:                          Logit   Df Residuals:                   149990\n",
            "Method:                           MLE   Df Model:                            9\n",
            "Date:                Sun, 27 Nov 2022   Pseudo R-squ.:                  0.1407\n",
            "Time:                        10:08:23   Log-Likelihood:                -31630.\n",
            "converged:                       True   LL-Null:                       -36808.\n",
            "Covariance Type:            nonrobust   LLR p-value:                     0.000\n",
            "===================================================================================================\n",
            "                                      coef    std err          z      P>|z|      [0.025      0.975]\n",
            "---------------------------------------------------------------------------------------------------\n",
            "util_new                            0.7540      0.027     27.617      0.000       0.700       0.807\n",
            "age                                -0.0609      0.001    -95.939      0.000      -0.062      -0.060\n",
            "num_30_59_dpd_new                   0.5222      0.011     47.534      0.000       0.501       0.544\n",
            "DebtRatio                       -4.411e-05   1.11e-05     -3.963      0.000   -6.59e-05   -2.23e-05\n",
            "MonthlyIncome_new                 -6.2e-05   3.63e-06    -17.072      0.000   -6.91e-05   -5.49e-05\n",
            "NumberOfOpenCreditLinesAndLoans    -0.0137      0.003     -5.091      0.000      -0.019      -0.008\n",
            "num_90_late_new                     0.4405      0.015     29.880      0.000       0.412       0.469\n",
            "NumberRealEstateLoansOrLines        0.1459      0.011     13.345      0.000       0.124       0.167\n",
            "num_60_89_dpd_new                   0.4005      0.022     18.284      0.000       0.358       0.443\n",
            "NumberOfDependents_new             -0.0228      0.010     -2.396      0.017      -0.041      -0.004\n",
            "===================================================================================================\n"
          ]
        }
      ]
    },
    {
      "cell_type": "markdown",
      "source": [
        "# Model building Using Decision Tree :"
      ],
      "metadata": {
        "id": "m-RQhskKrqht"
      }
    },
    {
      "cell_type": "code",
      "source": [
        "from sklearn import tree\n",
        "\n",
        "features=['util_new','age','num_30_59_dpd_new','DebtRatio','MonthlyIncome_new','NumberOfOpenCreditLinesAndLoans','num_90_late_new','NumberRealEstateLoansOrLines','num_60_89_dpd_new','NumberOfDependents_new']\n",
        "\n",
        "X=df1[features]\n",
        "print(\"X Shape:\", X.shape)\n",
        "\n",
        "y=df1['SeriousDlqin2yrs']\n",
        "print(\"y Shape:\", y.shape)"
      ],
      "metadata": {
        "colab": {
          "base_uri": "https://localhost:8080/"
        },
        "id": "NXQVC_47r1CD",
        "outputId": "b5d43b3d-672e-45d0-a3a8-d7bcbd18f85e"
      },
      "execution_count": 66,
      "outputs": [
        {
          "output_type": "stream",
          "name": "stdout",
          "text": [
            "X Shape: (150000, 10)\n",
            "y Shape: (150000,)\n"
          ]
        }
      ]
    },
    {
      "cell_type": "code",
      "source": [
        "#Building Tree Model\n",
        "DTree = tree.DecisionTreeClassifier(max_depth=5)\n",
        "DTree.fit(X,y)\n",
        "\n",
        "##Plotting the trees \n",
        "import matplotlib.pyplot as plt\n",
        "from sklearn.tree import plot_tree, export_text\n",
        "plt.figure(figsize=(15,7))\n",
        "plot_tree(DTree, filled=True, \n",
        "                     rounded=True,\n",
        "                     impurity=False,\n",
        "                     feature_names = features)\n",
        "print( export_text(DTree, feature_names = features))"
      ],
      "metadata": {
        "colab": {
          "base_uri": "https://localhost:8080/",
          "height": 1000
        },
        "id": "Kxi3o2kktpPh",
        "outputId": "a61db44a-df82-43ad-9262-0aa807e46faa"
      },
      "execution_count": 75,
      "outputs": [
        {
          "output_type": "stream",
          "name": "stdout",
          "text": [
            "|--- num_90_late_new <= 0.50\n",
            "|   |--- num_30_59_dpd_new <= 0.50\n",
            "|   |   |--- util_new <= 0.50\n",
            "|   |   |   |--- num_60_89_dpd_new <= 0.50\n",
            "|   |   |   |   |--- util_new <= 0.15\n",
            "|   |   |   |   |   |--- class: 0\n",
            "|   |   |   |   |--- util_new >  0.15\n",
            "|   |   |   |   |   |--- class: 0\n",
            "|   |   |   |--- num_60_89_dpd_new >  0.50\n",
            "|   |   |   |   |--- num_60_89_dpd_new <= 1.50\n",
            "|   |   |   |   |   |--- class: 0\n",
            "|   |   |   |   |--- num_60_89_dpd_new >  1.50\n",
            "|   |   |   |   |   |--- class: 0\n",
            "|   |   |--- util_new >  0.50\n",
            "|   |   |   |--- num_60_89_dpd_new <= 0.50\n",
            "|   |   |   |   |--- age <= 58.50\n",
            "|   |   |   |   |   |--- class: 0\n",
            "|   |   |   |   |--- age >  58.50\n",
            "|   |   |   |   |   |--- class: 0\n",
            "|   |   |   |--- num_60_89_dpd_new >  0.50\n",
            "|   |   |   |   |--- util_new <= 0.95\n",
            "|   |   |   |   |   |--- class: 0\n",
            "|   |   |   |   |--- util_new >  0.95\n",
            "|   |   |   |   |   |--- class: 0\n",
            "|   |--- num_30_59_dpd_new >  0.50\n",
            "|   |   |--- num_60_89_dpd_new <= 0.50\n",
            "|   |   |   |--- num_30_59_dpd_new <= 1.50\n",
            "|   |   |   |   |--- util_new <= 0.69\n",
            "|   |   |   |   |   |--- class: 0\n",
            "|   |   |   |   |--- util_new >  0.69\n",
            "|   |   |   |   |   |--- class: 0\n",
            "|   |   |   |--- num_30_59_dpd_new >  1.50\n",
            "|   |   |   |   |--- util_new <= 0.14\n",
            "|   |   |   |   |   |--- class: 0\n",
            "|   |   |   |   |--- util_new >  0.14\n",
            "|   |   |   |   |   |--- class: 0\n",
            "|   |   |--- num_60_89_dpd_new >  0.50\n",
            "|   |   |   |--- num_60_89_dpd_new <= 1.50\n",
            "|   |   |   |   |--- num_30_59_dpd_new <= 2.50\n",
            "|   |   |   |   |   |--- class: 0\n",
            "|   |   |   |   |--- num_30_59_dpd_new >  2.50\n",
            "|   |   |   |   |   |--- class: 0\n",
            "|   |   |   |--- num_60_89_dpd_new >  1.50\n",
            "|   |   |   |   |--- util_new <= 0.02\n",
            "|   |   |   |   |   |--- class: 0\n",
            "|   |   |   |   |--- util_new >  0.02\n",
            "|   |   |   |   |   |--- class: 0\n",
            "|--- num_90_late_new >  0.50\n",
            "|   |--- num_90_late_new <= 1.50\n",
            "|   |   |--- num_60_89_dpd_new <= 0.50\n",
            "|   |   |   |--- util_new <= 0.15\n",
            "|   |   |   |   |--- num_30_59_dpd_new <= 0.50\n",
            "|   |   |   |   |   |--- class: 0\n",
            "|   |   |   |   |--- num_30_59_dpd_new >  0.50\n",
            "|   |   |   |   |   |--- class: 0\n",
            "|   |   |   |--- util_new >  0.15\n",
            "|   |   |   |   |--- num_30_59_dpd_new <= 1.50\n",
            "|   |   |   |   |   |--- class: 0\n",
            "|   |   |   |   |--- num_30_59_dpd_new >  1.50\n",
            "|   |   |   |   |   |--- class: 0\n",
            "|   |   |--- num_60_89_dpd_new >  0.50\n",
            "|   |   |   |--- num_60_89_dpd_new <= 1.50\n",
            "|   |   |   |   |--- NumberOfDependents_new <= 2.50\n",
            "|   |   |   |   |   |--- class: 0\n",
            "|   |   |   |   |--- NumberOfDependents_new >  2.50\n",
            "|   |   |   |   |   |--- class: 1\n",
            "|   |   |   |--- num_60_89_dpd_new >  1.50\n",
            "|   |   |   |   |--- DebtRatio <= 0.30\n",
            "|   |   |   |   |   |--- class: 0\n",
            "|   |   |   |   |--- DebtRatio >  0.30\n",
            "|   |   |   |   |   |--- class: 1\n",
            "|   |--- num_90_late_new >  1.50\n",
            "|   |   |--- num_30_59_dpd_new <= 0.50\n",
            "|   |   |   |--- num_90_late_new <= 2.50\n",
            "|   |   |   |   |--- num_60_89_dpd_new <= 0.50\n",
            "|   |   |   |   |   |--- class: 0\n",
            "|   |   |   |   |--- num_60_89_dpd_new >  0.50\n",
            "|   |   |   |   |   |--- class: 1\n",
            "|   |   |   |--- num_90_late_new >  2.50\n",
            "|   |   |   |   |--- num_60_89_dpd_new <= 1.50\n",
            "|   |   |   |   |   |--- class: 1\n",
            "|   |   |   |   |--- num_60_89_dpd_new >  1.50\n",
            "|   |   |   |   |   |--- class: 1\n",
            "|   |   |--- num_30_59_dpd_new >  0.50\n",
            "|   |   |   |--- DebtRatio <= 0.12\n",
            "|   |   |   |   |--- age <= 22.50\n",
            "|   |   |   |   |   |--- class: 0\n",
            "|   |   |   |   |--- age >  22.50\n",
            "|   |   |   |   |   |--- class: 1\n",
            "|   |   |   |--- DebtRatio >  0.12\n",
            "|   |   |   |   |--- num_90_late_new <= 3.50\n",
            "|   |   |   |   |   |--- class: 1\n",
            "|   |   |   |   |--- num_90_late_new >  3.50\n",
            "|   |   |   |   |   |--- class: 1\n",
            "\n"
          ]
        },
        {
          "output_type": "display_data",
          "data": {
            "text/plain": [
              "<Figure size 1080x504 with 1 Axes>"
            ],
            "image/png": "[encoded data removed]"
          },
          "metadata": {
            "needs_background": "light"
          }
        }
      ]
    },
    {
      "cell_type": "code",
      "source": [
        "#Tree Validation\n",
        "predict3 = DTree.predict(X)\n",
        "\n",
        "from sklearn.metrics import confusion_matrix ###for using confusion matrix###\n",
        "cm3 = confusion_matrix(y, predict3)\n",
        "print (cm3)\n",
        "\n",
        "total3 = sum(sum(cm3))\n",
        "#####from confusion matrix calculate accuracy\n",
        "accuracy_tree = (cm3[0,0]+cm3[1,1])/total3\n",
        "print(accuracy_tree)"
      ],
      "metadata": {
        "colab": {
          "base_uri": "https://localhost:8080/"
        },
        "id": "YDOQUOmAuf3L",
        "outputId": "5214ae9f-ba8e-433d-ca05-cd710dbe209a"
      },
      "execution_count": 76,
      "outputs": [
        {
          "output_type": "stream",
          "name": "stdout",
          "text": [
            "[[138784   1190]\n",
            " [  8291   1735]]\n",
            "0.9367933333333334\n"
          ]
        }
      ]
    },
    {
      "cell_type": "markdown",
      "source": [
        "# **Decision Tree accuracy is 93.68%**"
      ],
      "metadata": {
        "id": "WJJztz34wPGn"
      }
    },
    {
      "cell_type": "markdown",
      "source": [
        "# Checking the problem of overfitting :"
      ],
      "metadata": {
        "id": "0suUraIgxwy8"
      }
    },
    {
      "cell_type": "code",
      "source": [
        "from sklearn.model_selection import train_test_split\n",
        "X_train, X_test, y_train, y_test = train_test_split(X, y, test_size=0.1, random_state=0)"
      ],
      "metadata": {
        "id": "iOLjqaFfy4Wx"
      },
      "execution_count": 88,
      "outputs": []
    },
    {
      "cell_type": "code",
      "source": [
        "print(X_train.shape)\n",
        "print(X_test.shape)\n",
        "print(y_train.shape)\n",
        "print(y_test.shape)"
      ],
      "metadata": {
        "colab": {
          "base_uri": "https://localhost:8080/"
        },
        "id": "gMG2JtXSzH-5",
        "outputId": "56c8e145-b0d7-445a-c4b6-f78e961e8401"
      },
      "execution_count": 89,
      "outputs": [
        {
          "output_type": "stream",
          "name": "stdout",
          "text": [
            "(135000, 10)\n",
            "(15000, 10)\n",
            "(135000,)\n",
            "(15000,)\n"
          ]
        }
      ]
    },
    {
      "cell_type": "code",
      "source": [
        "#training Tree Model\n",
        "clf = tree.DecisionTreeClassifier()\n",
        "clf.fit(X_train,y_train)\n",
        "\n",
        "predict1 = clf.predict(X_train)\n",
        "predict2 = clf.predict(X_test)\n",
        "\n",
        "#On Train Data\n",
        "cm1 = confusion_matrix(y_train,predict1)\n",
        "total1 = sum(sum(cm1))\n",
        "accuracy1 = (cm1[0,0]+cm1[1,1])/total1\n",
        "print(\"Train Accuracy\", accuracy1)\n",
        "\n",
        "#On Test Data\n",
        "cm2 = confusion_matrix(y_test,predict2)\n",
        "total2 = sum(sum(cm2))\n",
        "accuracy2 = (cm2[0,0]+cm2[1,1])/total2\n",
        "print(\"Test Accuracy\", accuracy2)\n",
        "# Train accuracy is higher . May be Overfitted."
      ],
      "metadata": {
        "colab": {
          "base_uri": "https://localhost:8080/"
        },
        "id": "fMBNv31L1GK-",
        "outputId": "9469aa21-4651-4129-dd45-a62352aa104e"
      },
      "execution_count": 90,
      "outputs": [
        {
          "output_type": "stream",
          "name": "stdout",
          "text": [
            "Train Accuracy 0.9996444444444444\n",
            "Test Accuracy 0.8985333333333333\n"
          ]
        }
      ]
    },
    {
      "cell_type": "markdown",
      "source": [
        "# Lets check throgh Pruning:"
      ],
      "metadata": {
        "id": "lnxhsi7g8d83"
      }
    },
    {
      "cell_type": "code",
      "source": [
        "#training Tree Model\n",
        "clf = tree.DecisionTreeClassifier(max_leaf_nodes = 100)\n",
        "clf.fit(X_train,y_train)\n",
        "\n",
        "predict1 = clf.predict(X_train)\n",
        "predict2 = clf.predict(X_test)\n",
        "\n",
        "#On Train Data\n",
        "cm1 = confusion_matrix(y_train,predict1)\n",
        "total1 = sum(sum(cm1))\n",
        "accuracy1 = (cm1[0,0]+cm1[1,1])/total1\n",
        "print(\"Train Accuracy\", accuracy1)\n",
        "\n",
        "#On Test Data\n",
        "cm2 = confusion_matrix(y_test,predict2)\n",
        "total2 = sum(sum(cm2))\n",
        "accuracy2 = (cm2[0,0]+cm2[1,1])/total2\n",
        "print(\"Test Accuracy\", accuracy2)"
      ],
      "metadata": {
        "colab": {
          "base_uri": "https://localhost:8080/"
        },
        "id": "PaYstAY86xQG",
        "outputId": "05817948-12bf-40a1-b4b0-5b3b3db23595"
      },
      "execution_count": 101,
      "outputs": [
        {
          "output_type": "stream",
          "name": "stdout",
          "text": [
            "Train Accuracy 0.9382148148148148\n",
            "Test Accuracy 0.9368\n"
          ]
        }
      ]
    },
    {
      "cell_type": "markdown",
      "source": [
        "**Final decision tree accuracy on test data is 93.68%**"
      ],
      "metadata": {
        "id": "RF4uYuAi8qUI"
      }
    },
    {
      "cell_type": "markdown",
      "source": [
        "# Model building using Random Forest:"
      ],
      "metadata": {
        "id": "1-lvwX4ILjjt"
      }
    },
    {
      "cell_type": "code",
      "source": [
        "from sklearn.ensemble import RandomForestClassifier\n",
        "forest=RandomForestClassifier(n_estimators=20, max_features=4, max_depth=6)\n",
        "# n_estimators - Trees - As high as possible\n",
        "# max_features - p - low ==>(sqrt(t))\n",
        "# max_depth - Slightly higher than single tree\n",
        "forest.fit(X_train,y_train)"
      ],
      "metadata": {
        "colab": {
          "base_uri": "https://localhost:8080/"
        },
        "id": "lFf7fUfiLuya",
        "outputId": "693d6923-3495-4f8f-f0b4-6829e6d0dd15"
      },
      "execution_count": 103,
      "outputs": [
        {
          "output_type": "execute_result",
          "data": {
            "text/plain": [
              "RandomForestClassifier(max_depth=6, max_features=4, n_estimators=20)"
            ]
          },
          "metadata": {},
          "execution_count": 103
        }
      ]
    },
    {
      "cell_type": "code",
      "source": [
        "predict1_1 = forest.predict(X_train)\n",
        "predict2_1 = forest.predict(X_test)\n",
        "########Train Data Validation\n",
        "cm4 = confusion_matrix(y_train,predict1_1)\n",
        "print(\"Confusion Matrix for Train data \\n\", cm4)\n",
        "total4=sum(sum(cm4))\n",
        "accuracy_forest_train=(cm4[0,0]+cm4[1,1])/total4\n",
        "print(\"Accuracy of Train data \\n\", accuracy_forest_train)\n",
        "\n",
        "########Test Data Validation\n",
        "cm5 = confusion_matrix(y_test,predict2_1)\n",
        "print(\"Confusion Matrix for test data \\n\", cm5)\n",
        "total5=sum(sum(cm5))\n",
        "accuracy_forest_test=(cm5[0,0]+cm5[1,1])/total5\n",
        "print(\"Accuracy of test data \\n\", accuracy_forest_test)"
      ],
      "metadata": {
        "colab": {
          "base_uri": "https://localhost:8080/"
        },
        "id": "SU9IAyGeOGLv",
        "outputId": "ae2b7485-63e2-48dc-b539-0f5c93f164fa"
      },
      "execution_count": 104,
      "outputs": [
        {
          "output_type": "stream",
          "name": "stdout",
          "text": [
            "Confusion Matrix for Train data \n",
            " [[125311    683]\n",
            " [  7717   1289]]\n",
            "Accuracy of Train data \n",
            " 0.9377777777777778\n",
            "Confusion Matrix for test data \n",
            " [[13913    67]\n",
            " [  871   149]]\n",
            "Accuracy of test data \n",
            " 0.9374666666666667\n"
          ]
        }
      ]
    },
    {
      "cell_type": "markdown",
      "source": [
        "**Getting Random Forest Accuracy: 93.74%**"
      ],
      "metadata": {
        "id": "EUu89v2LQUg7"
      }
    },
    {
      "cell_type": "markdown",
      "source": [
        "# **Conclusion: We are getting almost same accuracy with all three models. However,we found best accuracy of 93.74% with random forest model.**"
      ],
      "metadata": {
        "id": "26DrrfsVQgHV"
      }
    }
  ]
}